{
 "cells": [
  {
   "cell_type": "code",
   "execution_count": 2,
   "metadata": {
    "executionInfo": {
     "elapsed": 7,
     "status": "ok",
     "timestamp": 1648503130442,
     "user": {
      "displayName": "SANTIAGO PEREZ LOMBAS",
      "userId": "15351439813433794055"
     },
     "user_tz": -120
    },
    "id": "8ADaD9J4Qe8J"
   },
   "outputs": [],
   "source": [
    "#from google.colab import drive\n",
    "#drive.mount('/content/drive')\n",
    "\n",
    "import os\n",
    "#path_wd='./drive/MyDrive/MineriaIII'\n",
    "#os.chdir(path_wd)"
   ]
  },
  {
   "cell_type": "code",
   "execution_count": 42,
   "metadata": {
    "executionInfo": {
     "elapsed": 3431,
     "status": "ok",
     "timestamp": 1648503133868,
     "user": {
      "displayName": "SANTIAGO PEREZ LOMBAS",
      "userId": "15351439813433794055"
     },
     "user_tz": -120
    },
    "id": "r3G2EevyKdDG"
   },
   "outputs": [
    {
     "name": "stdout",
     "output_type": "stream",
     "text": [
      "1.20.3\n"
     ]
    }
   ],
   "source": [
    "import numpy as np\n",
    "import matplotlib.pyplot as plt\n",
    "import tensorflow as tf\n",
    "import pandas as pd\n",
    "import cv2\n",
    "import re\n",
    "from sklearn.decomposition import PCA\n",
    "from umap import UMAP\n",
    "from tensorflow.keras.models import save_model, load_model\n",
    "import scipy\n",
    "from sklearn.model_selection import GridSearchCV, RandomizedSearchCV,ParameterGrid, train_test_split\n",
    "from sklearn.metrics import classification_report, confusion_matrix\n",
    "from sklearn.svm import SVC\n",
    "import seaborn as sns\n",
    "sns.set_theme()\n",
    "\n",
    "path_models='models/'\n",
    "path_pred='predictions/'\n",
    "path_data='Sentinel2LULC_354/'\n",
    "path_test='Test 2/'\n",
    "ext_sub = '.csv'\n",
    "\n",
    "print(np.__version__)"
   ]
  },
  {
   "cell_type": "code",
   "execution_count": 3,
   "metadata": {
    "executionInfo": {
     "elapsed": 3,
     "status": "ok",
     "timestamp": 1648503153162,
     "user": {
      "displayName": "SANTIAGO PEREZ LOMBAS",
      "userId": "15351439813433794055"
     },
     "user_tz": -120
    },
    "id": "Rd-Dcuy3Drbm"
   },
   "outputs": [],
   "source": [
    "label_groups = {1:1, 2:2, 3:3, 4:4,5:4, 6:5,7:5,8:5,9:5,10:5,11:5,12:5,13:5,14:5,15:5,16:5,17:5, \n",
    "                18:6,19:6,20:6, 21:7,22:7, 23:8, 24:9,25:9,26:9,27:9,28:9, 29:10}\n",
    "subgroup = 9"
   ]
  },
  {
   "cell_type": "code",
   "execution_count": 4,
   "metadata": {
    "executionInfo": {
     "elapsed": 33388,
     "status": "ok",
     "timestamp": 1648503188604,
     "user": {
      "displayName": "SANTIAGO PEREZ LOMBAS",
      "userId": "15351439813433794055"
     },
     "user_tz": -120
    },
    "id": "OZzSwQbjQjF6"
   },
   "outputs": [],
   "source": [
    "data = []\n",
    "labels = []\n",
    "\n",
    "for d in os.listdir(path_data):\n",
    "    lab = int(re.search('\\d{1,2}', d).group())\n",
    "    if label_groups.get(lab) == subgroup:\n",
    "        for f in os.listdir(path_data + d):\n",
    "            try:\n",
    "                img = cv2.imread(path_data + d + '/' + f)\n",
    "                img = cv2.cvtColor(img, cv2.COLOR_BGR2RGB)\n",
    "                data.append(img)\n",
    "                labels.append(lab)\n",
    "            except:\n",
    "                print(\"Cannot read file: \" + d + '/' + f)\n",
    "\n",
    "data = np.array(data)\n",
    "labels = np.array(labels)"
   ]
  },
  {
   "cell_type": "code",
   "execution_count": 7,
   "metadata": {
    "executionInfo": {
     "elapsed": 21404,
     "status": "ok",
     "timestamp": 1648503224749,
     "user": {
      "displayName": "SANTIAGO PEREZ LOMBAS",
      "userId": "15351439813433794055"
     },
     "user_tz": -120
    },
    "id": "HUgdYcIAQlL_"
   },
   "outputs": [],
   "source": [
    "test_data = []\n",
    "test_labels = []\n",
    "\n",
    "for f in os.listdir(path_test):\n",
    "    lab = int(re.search('^(\\d{1,2})_', f).group(1))\n",
    "    if label_groups.get(lab) == subgroup:\n",
    "        try:\n",
    "            img = cv2.imread(path_test + f)\n",
    "            img = cv2.cvtColor(img, cv2.COLOR_BGR2RGB)\n",
    "            test_data.append(img)\n",
    "            test_labels.append(lab)\n",
    "        except:\n",
    "            print(\"Cannot read file: \" + f)\n",
    "        \n",
    "test_data = np.array(test_data)\n",
    "test_labels = np.array(test_labels)"
   ]
  },
  {
   "cell_type": "code",
   "execution_count": 8,
   "metadata": {},
   "outputs": [],
   "source": [
    "train, val = train_test_split(np.arange(len(labels)), test_size=0.2, stratify=labels)\n",
    "train_data = data[train]\n",
    "train_labels = labels[train]\n",
    "val_data = data[val]\n",
    "val_labels = labels[val]"
   ]
  },
  {
   "cell_type": "code",
   "execution_count": 9,
   "metadata": {
    "executionInfo": {
     "elapsed": 371,
     "status": "ok",
     "timestamp": 1648503305507,
     "user": {
      "displayName": "SANTIAGO PEREZ LOMBAS",
      "userId": "15351439813433794055"
     },
     "user_tz": -120
    },
    "id": "W1T22szxQoZC"
   },
   "outputs": [],
   "source": [
    "train_data = train_data.reshape(train_data.shape[0], -1)/255.0\n",
    "val_data = val_data.reshape(val_data.shape[0], -1)/255.0\n",
    "test_data = test_data.reshape(test_data.shape[0], -1)/255.0"
   ]
  },
  {
   "cell_type": "code",
   "execution_count": 26,
   "metadata": {},
   "outputs": [],
   "source": [
    "umap = UMAP(n_neighbors=15, n_components=10, metric='euclidean').fit(train_data)\n",
    "train_prec = umap.transform(train_data)\n",
    "val_prec = umap.transform(val_data)\n",
    "test_prec = umap.transform(test_data)"
   ]
  },
  {
   "cell_type": "code",
   "execution_count": 33,
   "metadata": {},
   "outputs": [],
   "source": [
    "pca = PCA().fit(train_data)\n",
    "cumsum = np.cumsum(pca.explained_variance_ratio_)\n",
    "d = np.argmax(cumsum >= 0.95) + 1"
   ]
  },
  {
   "cell_type": "code",
   "execution_count": 35,
   "metadata": {},
   "outputs": [],
   "source": [
    "train_prec = pca.transform(train_data)[:,0:d]\n",
    "val_prec = pca.transform(val_data)[:,0:d]\n",
    "test_prec = pca.transform(test_data)[:,0:d]"
   ]
  },
  {
   "cell_type": "code",
   "execution_count": 36,
   "metadata": {},
   "outputs": [],
   "source": [
    "batch_size = 16\n",
    "shuffle_buffer_size = 1000\n",
    "\n",
    "nclasses = len(np.unique(labels))\n",
    "factor_labels = np.min(labels)\n",
    "if nclasses > 2:\n",
    "    train_labels_coded = tf.one_hot(train_labels-factor_labels, depth=nclasses, on_value=1, off_value=0)\n",
    "    val_labels_coded = tf.one_hot(val_labels-factor_labels, depth=nclasses, on_value=1, off_value=0)\n",
    "    test_labels_coded = tf.one_hot(test_labels-factor_labels, depth=nclasses, on_value=1, off_value=0)\n",
    "else:\n",
    "    train_labels_coded = train_labels-factor_labels\n",
    "    val_labels_coded = val_labels-factor_labels\n",
    "    test_labels_coded = test_labels-factor_labels\n",
    "\n",
    "train_dataset = tf.data.Dataset.from_tensor_slices((tf.convert_to_tensor(train_prec), tf.convert_to_tensor(train_labels_coded)))\n",
    "val_dataset = tf.data.Dataset.from_tensor_slices((tf.convert_to_tensor(val_prec), tf.convert_to_tensor(val_labels_coded)))\n",
    "test_dataset = tf.data.Dataset.from_tensor_slices((tf.convert_to_tensor(test_prec), tf.convert_to_tensor(test_labels_coded)))\n",
    "\n",
    "train_batches = train_dataset.shuffle(shuffle_buffer_size).batch(batch_size)\n",
    "val_batches = val_dataset.batch(batch_size)\n",
    "test_batches = test_dataset.batch(batch_size)"
   ]
  },
  {
   "cell_type": "code",
   "execution_count": 44,
   "metadata": {
    "executionInfo": {
     "elapsed": 476,
     "status": "ok",
     "timestamp": 1648503377445,
     "user": {
      "displayName": "SANTIAGO PEREZ LOMBAS",
      "userId": "15351439813433794055"
     },
     "user_tz": -120
    },
    "id": "yg2XEHgXw_SK"
   },
   "outputs": [],
   "source": [
    "def create_model(binary=False):\n",
    "    if binary:  \n",
    "        model = tf.keras.Sequential([\n",
    "            tf.keras.layers.Dense(128, activation='relu'),\n",
    "            tf.keras.layers.Dropout(0.1),\n",
    "            tf.keras.layers.Dense(64, activation='relu'),\n",
    "            tf.keras.layers.Dropout(0.1),\n",
    "            tf.keras.layers.Dense(16, activation='relu'),\n",
    "            tf.keras.layers.Dense(1, activation='sigmoid')\n",
    "        ])\n",
    "    else:\n",
    "        model = tf.keras.Sequential([\n",
    "            tf.keras.layers.Dense(1024, activation='relu'),\n",
    "            tf.keras.layers.Dropout(0.2),\n",
    "            tf.keras.layers.Dense(512, activation='relu'),\n",
    "            tf.keras.layers.Dropout(0.2),\n",
    "            tf.keras.layers.Dense(64, activation='relu'),\n",
    "            tf.keras.layers.Dense(nclasses)\n",
    "        ])\n",
    "    return model\n",
    "\n",
    "\n",
    "def train_evaluate_model(model, name, binary=False, lr=0.0001):\n",
    "    if binary:\n",
    "        metric = 'binary_accuracy'\n",
    "        metric_val = 'val_binary_accuracy' \n",
    "    else:\n",
    "        metric = 'categorical_accuracy'\n",
    "        metric_val = 'val_categorical_accuracy'\n",
    "\n",
    "    earlystopping = tf.keras.callbacks.EarlyStopping(\n",
    "        monitor=metric_val,\n",
    "        verbose=1,\n",
    "        mode='max',\n",
    "        patience=10,\n",
    "        restore_best_weights=True\n",
    "    )\n",
    "    epochs = 50\n",
    "    optimizer = tf.keras.optimizers.Adam(learning_rate=lr, amsgrad=True)\n",
    "    if binary:\n",
    "        loss = tf.keras.losses.BinaryCrossentropy(from_logits=False)\n",
    "        metrics = [tf.keras.metrics.binary_accuracy]\n",
    "    else:\n",
    "        loss = tf.keras.losses.CategoricalCrossentropy(from_logits=True)\n",
    "        metrics = [tf.keras.metrics.categorical_accuracy]\n",
    "\n",
    "    model.compile(optimizer=optimizer, loss=loss, metrics=metrics)\n",
    "    history = model.fit(train_batches,\n",
    "                      epochs=epochs, \n",
    "                      validation_data=val_batches,\n",
    "                      callbacks=[earlystopping])\n",
    "\n",
    "    #save_model(model, path_models + name + '.h5')\n",
    "\n",
    "    test_loss, test_acc = model.evaluate(test_batches)\n",
    "    print('Test loss: ' + str(test_loss) + ', test acc: ' + str(test_acc))\n",
    "\n",
    "    if binary:\n",
    "        val_preds = (model.predict(val_batches) > 0.5).astype(int)\n",
    "        test_preds = (model.predict(test_batches) > 0.5).astype(int)\n",
    "    else:\n",
    "        val_preds = np.argmax(model.predict(val_batches), axis=-1)\n",
    "        test_preds = np.argmax(model.predict(test_batches), axis=-1)\n",
    "        val_matrix = tf.math.confusion_matrix(val_labels-factor_labels, val_preds)\n",
    "        test_matrix = tf.math.confusion_matrix(test_labels-factor_labels, test_preds)\n",
    "\n",
    "    fig, ax = plt.subplots(1, 2, figsize=(20,8))\n",
    "    axlabs = [str(l) for l in np.unique(np.sort(train_labels))]\n",
    "\n",
    "    im = sns.heatmap(ax=ax[0], data=val_matrix, annot=True, fmt=\"d\")\n",
    "    ax[0].set_xticks(np.arange(nclasses))\n",
    "    ax[0].set_yticks(np.arange(nclasses))\n",
    "    ax[0].set_xticklabels(axlabs)\n",
    "    ax[0].set_yticklabels(axlabs)\n",
    "    ax[0].set_title(\"Validation conf matrix\")\n",
    "\n",
    "    im = sns.heatmap(ax=ax[1], data=test_matrix, annot=True, fmt=\"d\")\n",
    "    ax[1].set_xticks(np.arange(nclasses))\n",
    "    ax[1].set_yticks(np.arange(nclasses))\n",
    "    ax[1].set_xticklabels(axlabs)\n",
    "    ax[1].set_yticklabels(axlabs)\n",
    "    ax[1].set_title(\"Test confusion matrix\")\n",
    "\n",
    "    plt.show()\n",
    "    \n",
    "\n",
    "def fit_evaluate_svm():\n",
    "    tuned_parameters = [{'C': scipy.stats.expon(scale=100), 'gamma': scipy.stats.expon(scale=.1), 'kernel': ['rbf']}]\n",
    "    svm = RandomizedSearchCV(SVC(), tuned_parameters)\n",
    "    svm.fit(train_prec, train_labels)\n",
    "    \n",
    "    targets = np.unique(np.sort(train_labels))\n",
    "    \n",
    "    val_pred = svm.predict(val_prec)\n",
    "    print(classification_report(val_labels, val_pred, target_names=targets.astype(str)))\n",
    "    \n",
    "    test_pred = svm.predict(test_prec)\n",
    "    print(classification_report(test_labels, test_pred, target_names=targets.astype(str)))"
   ]
  },
  {
   "cell_type": "code",
   "execution_count": 45,
   "metadata": {},
   "outputs": [
    {
     "name": "stdout",
     "output_type": "stream",
     "text": [
      "              precision    recall  f1-score   support\n",
      "\n",
      "          24       0.64      0.48      0.55        71\n",
      "          25       0.70      0.67      0.69        70\n",
      "          26       0.71      0.56      0.63        71\n",
      "          27       0.44      0.86      0.58        71\n",
      "          28       0.79      0.44      0.56        71\n",
      "\n",
      "    accuracy                           0.60       354\n",
      "   macro avg       0.66      0.60      0.60       354\n",
      "weighted avg       0.66      0.60      0.60       354\n",
      "\n",
      "              precision    recall  f1-score   support\n",
      "\n",
      "          24       0.87      0.54      0.67        50\n",
      "          25       0.78      0.87      0.82        62\n",
      "          26       0.53      0.36      0.43        50\n",
      "          27       0.58      0.98      0.73        61\n",
      "          28       1.00      0.75      0.85        55\n",
      "\n",
      "    accuracy                           0.72       278\n",
      "   macro avg       0.75      0.70      0.70       278\n",
      "weighted avg       0.75      0.72      0.71       278\n",
      "\n"
     ]
    }
   ],
   "source": [
    "fit_evaluate_svm()"
   ]
  },
  {
   "cell_type": "code",
   "execution_count": 39,
   "metadata": {},
   "outputs": [
    {
     "name": "stdout",
     "output_type": "stream",
     "text": [
      "Epoch 1/50\n",
      "89/89 [==============================] - 1s 7ms/step - loss: 1.2880 - categorical_accuracy: 0.4421 - val_loss: 0.9741 - val_categorical_accuracy: 0.6017\n",
      "Epoch 2/50\n",
      "89/89 [==============================] - 1s 6ms/step - loss: 0.9821 - categorical_accuracy: 0.5833 - val_loss: 0.8951 - val_categorical_accuracy: 0.5791\n",
      "Epoch 3/50\n",
      "89/89 [==============================] - 0s 6ms/step - loss: 0.8809 - categorical_accuracy: 0.6278 - val_loss: 0.8765 - val_categorical_accuracy: 0.5791\n",
      "Epoch 4/50\n",
      "89/89 [==============================] - 1s 6ms/step - loss: 0.8064 - categorical_accuracy: 0.6589 - val_loss: 0.8217 - val_categorical_accuracy: 0.6582\n",
      "Epoch 5/50\n",
      "89/89 [==============================] - 1s 6ms/step - loss: 0.7527 - categorical_accuracy: 0.6751 - val_loss: 0.8566 - val_categorical_accuracy: 0.6073\n",
      "Epoch 6/50\n",
      "89/89 [==============================] - 1s 6ms/step - loss: 0.6815 - categorical_accuracy: 0.7182 - val_loss: 0.8546 - val_categorical_accuracy: 0.6017\n",
      "Epoch 7/50\n",
      "89/89 [==============================] - 0s 6ms/step - loss: 0.6175 - categorical_accuracy: 0.7535 - val_loss: 0.8482 - val_categorical_accuracy: 0.6469\n",
      "Epoch 8/50\n",
      "89/89 [==============================] - 1s 6ms/step - loss: 0.5636 - categorical_accuracy: 0.7804 - val_loss: 0.8723 - val_categorical_accuracy: 0.6186\n",
      "Epoch 9/50\n",
      "89/89 [==============================] - 1s 6ms/step - loss: 0.5381 - categorical_accuracy: 0.7980 - val_loss: 0.9246 - val_categorical_accuracy: 0.6017\n",
      "Epoch 10/50\n",
      "89/89 [==============================] - 1s 6ms/step - loss: 0.4879 - categorical_accuracy: 0.8178 - val_loss: 0.9297 - val_categorical_accuracy: 0.5960\n",
      "Epoch 11/50\n",
      "89/89 [==============================] - 1s 6ms/step - loss: 0.4548 - categorical_accuracy: 0.8383 - val_loss: 0.9160 - val_categorical_accuracy: 0.6045\n",
      "Epoch 12/50\n",
      "89/89 [==============================] - 1s 6ms/step - loss: 0.4197 - categorical_accuracy: 0.8475 - val_loss: 0.9389 - val_categorical_accuracy: 0.6045\n",
      "Epoch 13/50\n",
      "89/89 [==============================] - 1s 6ms/step - loss: 0.3854 - categorical_accuracy: 0.8566 - val_loss: 0.9679 - val_categorical_accuracy: 0.6073\n",
      "Epoch 14/50\n",
      "87/89 [============================>.] - ETA: 0s - loss: 0.3726 - categorical_accuracy: 0.8685Restoring model weights from the end of the best epoch: 4.\n",
      "89/89 [==============================] - 1s 6ms/step - loss: 0.3731 - categorical_accuracy: 0.8658 - val_loss: 0.9663 - val_categorical_accuracy: 0.6271\n",
      "Epoch 14: early stopping\n",
      "18/18 [==============================] - 0s 2ms/step - loss: 1.0180 - categorical_accuracy: 0.6367\n",
      "Test loss: 1.0180292129516602, test acc: 0.6366906762123108\n"
     ]
    },
    {
     "data": {
      "image/png": "[encoded data removed]",
      "text/plain": [
       "<Figure size 1440x576 with 4 Axes>"
      ]
     },
     "metadata": {},
     "output_type": "display_data"
    }
   ],
   "source": [
    "model = create_model()\n",
    "train_evaluate_model(model, 'crop')"
   ]
  }
 ],
 "metadata": {
  "accelerator": "GPU",
  "colab": {
   "authorship_tag": "ABX9TyOqYKqBxldxyTRHt0W4S7D2",
   "collapsed_sections": [],
   "mount_file_id": "1FB_hsGZgLpeyPUz-ZYm6d8fCJyUj1h_8",
   "name": "superclasses_model.ipynb",
   "provenance": []
  },
  "kernelspec": {
   "display_name": "Python 3 (ipykernel)",
   "language": "python",
   "name": "python3"
  },
  "language_info": {
   "codemirror_mode": {
    "name": "ipython",
    "version": 3
   },
   "file_extension": ".py",
   "mimetype": "text/x-python",
   "name": "python",
   "nbconvert_exporter": "python",
   "pygments_lexer": "ipython3",
   "version": "3.7.12"
  }
 },
 "nbformat": 4,
 "nbformat_minor": 4
}
