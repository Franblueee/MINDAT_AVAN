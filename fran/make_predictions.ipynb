{
 "cells": [
  {
   "cell_type": "code",
   "execution_count": 10,
   "metadata": {},
   "outputs": [],
   "source": [
    "import tensorflow as tf\n",
    "import numpy as np\n",
    "from sklearn.metrics import accuracy_score, f1_score\n",
    "import pandas as pd\n",
    "\n",
    "from utils import load_data\n",
    "from models import resnet50_baseline"
   ]
  },
  {
   "cell_type": "code",
   "execution_count": 3,
   "metadata": {},
   "outputs": [
    {
     "data": {
      "text/plain": [
       "[PhysicalDevice(name='/physical_device:CPU:0', device_type='CPU'),\n",
       " PhysicalDevice(name='/physical_device:GPU:0', device_type='GPU')]"
      ]
     },
     "execution_count": 3,
     "metadata": {},
     "output_type": "execute_result"
    }
   ],
   "source": [
    "tf.config.list_physical_devices()"
   ]
  },
  {
   "cell_type": "code",
   "execution_count": 4,
   "metadata": {},
   "outputs": [],
   "source": [
    "#data_dir = \"../reduced_data/\"\n",
    "data_dir = \"../data/\"\n",
    "batch_size = 32\n",
    "img_height = 224\n",
    "img_width = 224"
   ]
  },
  {
   "cell_type": "code",
   "execution_count": 5,
   "metadata": {},
   "outputs": [],
   "source": [
    "train_data, train_labels, test_data, test_labels, test_names = load_data(data_dir, norm=False)\n",
    "train_data = tf.keras.applications.resnet50.preprocess_input(train_data)\n",
    "test_data = tf.keras.applications.resnet50.preprocess_input(test_data)\n",
    "train_labels = tf.one_hot(train_labels, 29).numpy()\n",
    "test_labels = tf.one_hot(test_labels, 29).numpy()"
   ]
  },
  {
   "cell_type": "code",
   "execution_count": 6,
   "metadata": {},
   "outputs": [],
   "source": [
    "model = resnet50_baseline()\n",
    "model.load_weights(\"./weights/resnet50_baseline_DA.h5\")"
   ]
  },
  {
   "cell_type": "code",
   "execution_count": 12,
   "metadata": {},
   "outputs": [
    {
     "name": "stdout",
     "output_type": "stream",
     "text": [
      "0.7527812113720643\n",
      "0.7527812113720643\n"
     ]
    }
   ],
   "source": [
    "preds = model(test_data)\n",
    "preds_argmax = np.argmax(preds, axis=-1)\n",
    "acc = accuracy_score(np.argmax(test_labels, axis=-1), preds_argmax)\n",
    "f1 = f1_score(np.argmax(test_labels, axis=-1), np.argmax(preds, axis=-1), average=\"micro\")\n",
    "print(acc)\n",
    "print(f1)"
   ]
  },
  {
   "cell_type": "code",
   "execution_count": 17,
   "metadata": {},
   "outputs": [],
   "source": [
    "d = {'id.jpg': test_names, 'label': preds_argmax}\n",
    "df = pd.DataFrame(data=d)\n",
    "df.to_csv(\"./submissions/resnet50_baseline_DA_1.csv\", index=False)"
   ]
  }
 ],
 "metadata": {
  "kernelspec": {
   "display_name": "XAIFL",
   "language": "python",
   "name": "xaifl"
  },
  "language_info": {
   "codemirror_mode": {
    "name": "ipython",
    "version": 3
   },
   "file_extension": ".py",
   "mimetype": "text/x-python",
   "name": "python",
   "nbconvert_exporter": "python",
   "pygments_lexer": "ipython3",
   "version": "3.7.11"
  },
  "orig_nbformat": 4
 },
 "nbformat": 4,
 "nbformat_minor": 2
}
