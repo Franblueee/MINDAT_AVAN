{
 "cells": [
  {
   "cell_type": "code",
   "execution_count": 18,
   "metadata": {},
   "outputs": [],
   "source": [
    "import tensorflow as tf\n",
    "import numpy as np\n",
    "import matplotlib.pyplot as plt\n",
    "from sklearn.metrics import accuracy_score, f1_score\n",
    "\n",
    "from utils import load_train_data, load_test_data"
   ]
  },
  {
   "cell_type": "code",
   "execution_count": 2,
   "metadata": {},
   "outputs": [],
   "source": [
    "#data_dir = \"../reduced_data/\"\n",
    "data_dir = \"../data/\"\n",
    "batch_size = 32\n",
    "img_height = 224\n",
    "img_width = 224"
   ]
  },
  {
   "cell_type": "code",
   "execution_count": 26,
   "metadata": {},
   "outputs": [
    {
     "name": "stdout",
     "output_type": "stream",
     "text": [
      "Found 10266 files belonging to 29 classes.\n",
      "Found 1601 files belonging to 29 classes.\n"
     ]
    }
   ],
   "source": [
    "train_data, train_labels = load_train_data(f\"{data_dir}train/\")\n",
    "test_data, test_labels = load_test_data(f\"{data_dir}new_test/\")"
   ]
  },
  {
   "cell_type": "code",
   "execution_count": 27,
   "metadata": {},
   "outputs": [],
   "source": [
    "train_data = tf.keras.applications.resnet50.preprocess_input(train_data)\n",
    "test_data = tf.keras.applications.resnet50.preprocess_input(test_data)"
   ]
  },
  {
   "cell_type": "code",
   "execution_count": 28,
   "metadata": {},
   "outputs": [],
   "source": [
    "train_labels = tf.one_hot(train_labels, 29)\n",
    "test_labels = tf.one_hot(test_labels, 29)"
   ]
  },
  {
   "cell_type": "code",
   "execution_count": 29,
   "metadata": {},
   "outputs": [],
   "source": [
    "resnet = tf.keras.applications.resnet.ResNet50(include_top = False, weights='imagenet', input_shape=(224, 224, 3))\n",
    "\n",
    "resnet.trainable = True\n",
    "fine_tune_at = 100\n",
    "\n",
    "for layer in resnet.layers[:fine_tune_at]:\n",
    "    layer.trainable = False\n",
    "\n",
    "classifier = resnet.output\n",
    "classifier = tf.keras.layers.GlobalAveragePooling2D()(classifier)\n",
    "classifier = tf.keras.layers.Dense(29, activation='softmax')(classifier)\n",
    "model = tf.keras.Model(inputs=resnet.input, outputs=classifier)\n",
    "\n",
    "loss = tf.keras.losses.CategoricalCrossentropy()\n",
    "#optimizer = tf.keras.optimizers.Adam(learning_rate=0.001)\n",
    "optimizer = tf.keras.optimizers.RMSprop(learning_rate=0.001)\n",
    "metrics = [tf.keras.metrics.categorical_accuracy]\n",
    "patience = 10\n",
    "callbacks = [tf.keras.callbacks.EarlyStopping(monitor='val_loss', patience=patience, verbose=0, mode='auto', restore_best_weights=True)]\n",
    "\n",
    "model.compile(optimizer=optimizer, loss=loss, metrics=metrics)"
   ]
  },
  {
   "cell_type": "code",
   "execution_count": 30,
   "metadata": {},
   "outputs": [
    {
     "name": "stdout",
     "output_type": "stream",
     "text": [
      "Epoch 1/30\n",
      "81/81 [==============================] - 24s 260ms/step - loss: 1.2148 - categorical_accuracy: 0.6226 - val_loss: 9.3317 - val_categorical_accuracy: 0.0369\n",
      "Epoch 2/30\n",
      "81/81 [==============================] - 18s 227ms/step - loss: 0.4560 - categorical_accuracy: 0.8264 - val_loss: 12.6150 - val_categorical_accuracy: 0.0169\n",
      "Epoch 3/30\n",
      "81/81 [==============================] - 18s 227ms/step - loss: 0.4500 - categorical_accuracy: 0.8377 - val_loss: 12.2918 - val_categorical_accuracy: 0.0106\n",
      "Epoch 4/30\n",
      "81/81 [==============================] - 18s 227ms/step - loss: 0.4138 - categorical_accuracy: 0.8440 - val_loss: 9.9726 - val_categorical_accuracy: 0.0137\n",
      "Epoch 5/30\n",
      "81/81 [==============================] - 18s 229ms/step - loss: 0.4870 - categorical_accuracy: 0.8526 - val_loss: 4.9954 - val_categorical_accuracy: 0.0319\n",
      "Epoch 6/30\n",
      "81/81 [==============================] - 18s 227ms/step - loss: 0.4488 - categorical_accuracy: 0.8438 - val_loss: 7.2034 - val_categorical_accuracy: 0.0169\n",
      "Epoch 7/30\n",
      "81/81 [==============================] - 18s 228ms/step - loss: 0.5756 - categorical_accuracy: 0.8314 - val_loss: 12.4458 - val_categorical_accuracy: 0.0262\n",
      "Epoch 8/30\n",
      "81/81 [==============================] - 18s 227ms/step - loss: 0.6292 - categorical_accuracy: 0.8247 - val_loss: 7.3559 - val_categorical_accuracy: 0.0387\n",
      "Epoch 9/30\n",
      "81/81 [==============================] - 19s 230ms/step - loss: 0.7690 - categorical_accuracy: 0.7948 - val_loss: 8.5418 - val_categorical_accuracy: 0.0294\n",
      "Epoch 10/30\n",
      "81/81 [==============================] - 19s 229ms/step - loss: 0.6266 - categorical_accuracy: 0.8330 - val_loss: 11.1386 - val_categorical_accuracy: 0.0537\n",
      "Epoch 11/30\n",
      "81/81 [==============================] - 19s 232ms/step - loss: 0.6269 - categorical_accuracy: 0.8065 - val_loss: 11.1177 - val_categorical_accuracy: 0.0356\n",
      "Epoch 12/30\n",
      "81/81 [==============================] - 19s 230ms/step - loss: 0.6907 - categorical_accuracy: 0.8124 - val_loss: 10.0761 - val_categorical_accuracy: 0.0625\n",
      "Epoch 13/30\n",
      "81/81 [==============================] - 19s 231ms/step - loss: 0.8378 - categorical_accuracy: 0.7774 - val_loss: 7.6522 - val_categorical_accuracy: 0.0369\n",
      "Epoch 14/30\n",
      "81/81 [==============================] - 19s 233ms/step - loss: 0.6902 - categorical_accuracy: 0.8161 - val_loss: 4.7798 - val_categorical_accuracy: 0.0294\n",
      "Epoch 15/30\n",
      "72/81 [=========================>....] - ETA: 1s - loss: 0.6102 - categorical_accuracy: 0.8408"
     ]
    }
   ],
   "source": [
    "#hist = model.fit(train_data, train_labels, epochs=30, callbacks=callbacks, validation_data=(test_data, test_labels), batch_size=128)\n",
    "hist = model.fit(train_data, train_labels, epochs=30, callbacks=callbacks, validation_split=0.2, batch_size=32)"
   ]
  },
  {
   "cell_type": "code",
   "execution_count": null,
   "metadata": {},
   "outputs": [
    {
     "name": "stdout",
     "output_type": "stream",
     "text": [
      "0.037476577139287946\n"
     ]
    }
   ],
   "source": [
    "preds = model(test_data)\n",
    "acc = accuracy_score(np.argmax(test_labels, axis=-1), np.argmax(preds, axis=-1))\n",
    "print(acc)\n",
    "#f1_score(np.argmax(test_labels, axis=-1), np.argmax(preds, axis=-1))"
   ]
  }
 ],
 "metadata": {
  "interpreter": {
   "hash": "7c29817cf05d3dc48fb635fb318e22d885cd8ef3f3f0e149db08f2fbce105280"
  },
  "kernelspec": {
   "display_name": "XAIFL",
   "language": "python",
   "name": "xaifl"
  },
  "language_info": {
   "codemirror_mode": {
    "name": "ipython",
    "version": 3
   },
   "file_extension": ".py",
   "mimetype": "text/x-python",
   "name": "python",
   "nbconvert_exporter": "python",
   "pygments_lexer": "ipython3",
   "version": "3.7.11"
  },
  "orig_nbformat": 4
 },
 "nbformat": 4,
 "nbformat_minor": 2
}
