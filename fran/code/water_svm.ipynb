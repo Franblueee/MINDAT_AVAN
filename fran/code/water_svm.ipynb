{
 "cells": [
  {
   "cell_type": "code",
   "execution_count": 1,
   "metadata": {},
   "outputs": [
    {
     "name": "stderr",
     "output_type": "stream",
     "text": [
      "2022-03-23 14:02:23.833572: W tensorflow/stream_executor/platform/default/dso_loader.cc:64] Could not load dynamic library 'libcudart.so.11.0'; dlerror: libcudart.so.11.0: cannot open shared object file: No such file or directory\n",
      "2022-03-23 14:02:23.833638: I tensorflow/stream_executor/cuda/cudart_stub.cc:29] Ignore above cudart dlerror if you do not have a GPU set up on your machine.\n"
     ]
    }
   ],
   "source": [
    "import tensorflow as tf\n",
    "import numpy as np\n",
    "from sklearn.metrics import classification_report, accuracy_score\n",
    "from sklearn.decomposition import PCA\n",
    "from sklearn.svm import SVC\n",
    "from sklearn.model_selection import GridSearchCV, ParameterGrid\n",
    "from sklearn.preprocessing import StandardScaler\n",
    "\n",
    "import matplotlib.pyplot as plt\n",
    "import utils\n",
    "import pandas as pd"
   ]
  },
  {
   "cell_type": "code",
   "execution_count": 2,
   "metadata": {},
   "outputs": [],
   "source": [
    "#MAIN_PATH = \"/mnt/homeGPU/fcastro/MINDAT_AVAN/fran/\"\n",
    "MAIN_PATH = \"/home/franblue/PROYECTOS/lulc/\"\n",
    "\n",
    "#data_dir = \"../reduced_data/\"\n",
    "data_dir = MAIN_PATH + \"data/\"\n",
    "batch_size = 32\n",
    "img_height = 224\n",
    "img_width = 224"
   ]
  },
  {
   "cell_type": "code",
   "execution_count": 3,
   "metadata": {},
   "outputs": [],
   "source": [
    "train_data, train_labels, test_data, test_labels, test_names = utils.load_data(data_dir, norm=False)"
   ]
  },
  {
   "cell_type": "code",
   "execution_count": 4,
   "metadata": {},
   "outputs": [],
   "source": [
    "idx = np.logical_or(train_labels==20, train_labels==21)\n",
    "train_data = train_data[idx]/255.0\n",
    "train_labels = train_labels[idx]\n",
    "\n",
    "idx = np.logical_or(test_labels==20, test_labels==21)\n",
    "test_data = test_data[idx]/255.0\n",
    "test_labels = test_labels[idx]"
   ]
  },
  {
   "cell_type": "code",
   "execution_count": 5,
   "metadata": {},
   "outputs": [],
   "source": [
    "fl_train_data = train_data.reshape(train_data.shape[0], -1)\n",
    "fl_test_data = test_data.reshape(test_data.shape[0], -1)"
   ]
  },
  {
   "cell_type": "code",
   "execution_count": 6,
   "metadata": {},
   "outputs": [],
   "source": [
    "pca = PCA(n_components=100)\n",
    "#pca = KernelPCA(kernel=\"poly\", degree=3)\n",
    "\n",
    "pca = pca.fit(fl_train_data)"
   ]
  },
  {
   "cell_type": "code",
   "execution_count": 7,
   "metadata": {},
   "outputs": [
    {
     "data": {
      "text/plain": [
       "0.9854722764316294"
      ]
     },
     "execution_count": 7,
     "metadata": {},
     "output_type": "execute_result"
    }
   ],
   "source": [
    "n_components = 10\n",
    "#sum(pca.eigenvalues_[0:n_components])/sum(pca.eigenvalues_)\n",
    "np.sum(pca.explained_variance_ratio_[0:n_components])"
   ]
  },
  {
   "cell_type": "code",
   "execution_count": 8,
   "metadata": {},
   "outputs": [],
   "source": [
    "fl_train_data_trans = pca.transform(fl_train_data)[:,0:n_components]\n",
    "fl_test_data_trans = pca.transform(fl_test_data)[:,0:n_components]"
   ]
  },
  {
   "cell_type": "code",
   "execution_count": 9,
   "metadata": {},
   "outputs": [
    {
     "data": {
      "text/plain": [
       "<matplotlib.legend.Legend at 0x7f953641af90>"
      ]
     },
     "execution_count": 9,
     "metadata": {},
     "output_type": "execute_result"
    },
    {
     "data": {
      "image/png": "[encoded data removed]",
      "text/plain": [
       "<Figure size 432x288 with 1 Axes>"
      ]
     },
     "metadata": {
      "needs_background": "light"
     },
     "output_type": "display_data"
    }
   ],
   "source": [
    "idx_20 = train_labels==20\n",
    "fig = plt.figure()\n",
    "ax = fig.add_subplot()\n",
    "ax.scatter(fl_train_data_trans[idx_20,0], fl_train_data_trans[idx_20,1], label=\"20\")\n",
    "idx_21 = train_labels==21\n",
    "ax.scatter(fl_train_data_trans[idx_21,0], fl_train_data_trans[idx_21,1], label=\"21\")\n",
    "plt.legend()"
   ]
  },
  {
   "cell_type": "code",
   "execution_count": 10,
   "metadata": {},
   "outputs": [
    {
     "data": {
      "text/plain": [
       "<matplotlib.legend.Legend at 0x7f952b22bdd0>"
      ]
     },
     "execution_count": 10,
     "metadata": {},
     "output_type": "execute_result"
    },
    {
     "data": {
      "image/png": "[encoded data removed]",
      "text/plain": [
       "<Figure size 432x288 with 1 Axes>"
      ]
     },
     "metadata": {
      "needs_background": "light"
     },
     "output_type": "display_data"
    }
   ],
   "source": [
    "idx_20 = test_labels==20\n",
    "fig = plt.figure()\n",
    "ax = fig.add_subplot()\n",
    "ax.scatter(fl_test_data_trans[idx_20,0], fl_test_data_trans[idx_20,1], label=\"20\")\n",
    "idx_21 = test_labels==21\n",
    "ax.scatter(fl_test_data_trans[idx_21,0], fl_test_data_trans[idx_21,1], label=\"21\")\n",
    "plt.legend()"
   ]
  },
  {
   "cell_type": "code",
   "execution_count": 11,
   "metadata": {},
   "outputs": [],
   "source": [
    "param_dic = {\"C\" : [0.0001, 0.001, 0.1, 0.2, 0.5, 1.0, 2.0, 3.0, 10.0], \"gamma\" : [0.0001, 0.001, 0.1, 1.0, 2.0, 5.0]}\n",
    "\n",
    "param_grid = ParameterGrid(param_dic)"
   ]
  },
  {
   "cell_type": "code",
   "execution_count": 12,
   "metadata": {},
   "outputs": [],
   "source": [
    "svm = SVC(kernel=\"rbf\")\n",
    "gs = GridSearchCV(svm, param_dic)\n",
    "gs = gs.fit(fl_train_data_trans, train_labels)"
   ]
  },
  {
   "cell_type": "code",
   "execution_count": 13,
   "metadata": {},
   "outputs": [
    {
     "name": "stdout",
     "output_type": "stream",
     "text": [
      "{'C': 3.0, 'gamma': 0.001}\n",
      "0.7612326440914993\n"
     ]
    }
   ],
   "source": [
    "print(gs.best_params_)\n",
    "print(gs.best_score_)"
   ]
  },
  {
   "cell_type": "code",
   "execution_count": 14,
   "metadata": {},
   "outputs": [],
   "source": [
    "svm = SVC(C=gs.best_params_[\"C\"], kernel=\"rbf\", gamma=gs.best_params_[\"gamma\"])\n",
    "#svm = SVC(C=10.0, kernel=\"rbf\", gamma=0.1)\n",
    "svm = svm.fit(fl_train_data_trans, train_labels)"
   ]
  },
  {
   "cell_type": "code",
   "execution_count": 15,
   "metadata": {},
   "outputs": [
    {
     "name": "stdout",
     "output_type": "stream",
     "text": [
      "              precision    recall  f1-score   support\n",
      "\n",
      "          20       0.74      0.84      0.79       354\n",
      "          21       0.82      0.71      0.76       354\n",
      "\n",
      "    accuracy                           0.78       708\n",
      "   macro avg       0.78      0.78      0.77       708\n",
      "weighted avg       0.78      0.78      0.77       708\n",
      "\n"
     ]
    }
   ],
   "source": [
    "train_preds = svm.predict(fl_train_data_trans)\n",
    "print(classification_report(train_labels, train_preds))"
   ]
  },
  {
   "cell_type": "code",
   "execution_count": 16,
   "metadata": {},
   "outputs": [
    {
     "name": "stdout",
     "output_type": "stream",
     "text": [
      "              precision    recall  f1-score   support\n",
      "\n",
      "          20       0.74      0.87      0.80        52\n",
      "          21       0.83      0.69      0.75        51\n",
      "\n",
      "    accuracy                           0.78       103\n",
      "   macro avg       0.79      0.78      0.77       103\n",
      "weighted avg       0.79      0.78      0.77       103\n",
      "\n"
     ]
    }
   ],
   "source": [
    "test_preds = svm.predict(fl_test_data_trans)\n",
    "print(classification_report(test_labels, test_preds))"
   ]
  },
  {
   "cell_type": "code",
   "execution_count": 17,
   "metadata": {},
   "outputs": [
    {
     "name": "stdout",
     "output_type": "stream",
     "text": [
      "C=0.0001, gamma=0.0001, acc_train=0.5423728813559322, acc_test=0.6213592233009708\n",
      "C=0.0001, gamma=0.001, acc_train=0.5918079096045198, acc_test=0.7184466019417476\n",
      "C=0.0001, gamma=0.1, acc_train=0.6949152542372882, acc_test=0.883495145631068\n",
      "C=0.0001, gamma=1.0, acc_train=0.6313559322033898, acc_test=0.7961165048543689\n",
      "C=0.0001, gamma=2.0, acc_train=0.635593220338983, acc_test=0.7669902912621359\n",
      "C=0.0001, gamma=5.0, acc_train=0.9717514124293786, acc_test=0.7184466019417476\n",
      "C=0.001, gamma=0.0001, acc_train=0.5423728813559322, acc_test=0.6213592233009708\n",
      "C=0.001, gamma=0.001, acc_train=0.5918079096045198, acc_test=0.7184466019417476\n",
      "C=0.001, gamma=0.1, acc_train=0.6949152542372882, acc_test=0.883495145631068\n",
      "C=0.001, gamma=1.0, acc_train=0.6313559322033898, acc_test=0.7961165048543689\n",
      "C=0.001, gamma=2.0, acc_train=0.635593220338983, acc_test=0.7669902912621359\n",
      "C=0.001, gamma=5.0, acc_train=0.9717514124293786, acc_test=0.7184466019417476\n",
      "C=0.1, gamma=0.0001, acc_train=0.5437853107344632, acc_test=0.6213592233009708\n",
      "C=0.1, gamma=0.001, acc_train=0.730225988700565, acc_test=0.7087378640776699\n",
      "C=0.1, gamma=0.1, acc_train=0.731638418079096, acc_test=0.8446601941747572\n",
      "C=0.1, gamma=1.0, acc_train=0.6271186440677966, acc_test=0.7961165048543689\n",
      "C=0.1, gamma=2.0, acc_train=0.635593220338983, acc_test=0.7669902912621359\n",
      "C=0.1, gamma=5.0, acc_train=0.9717514124293786, acc_test=0.7184466019417476\n",
      "C=0.2, gamma=0.0001, acc_train=0.5692090395480226, acc_test=0.6504854368932039\n",
      "C=0.2, gamma=0.001, acc_train=0.7457627118644068, acc_test=0.7378640776699029\n",
      "C=0.2, gamma=0.1, acc_train=0.769774011299435, acc_test=0.8446601941747572\n",
      "C=0.2, gamma=1.0, acc_train=0.6892655367231638, acc_test=0.8640776699029126\n",
      "C=0.2, gamma=2.0, acc_train=0.6483050847457628, acc_test=0.7669902912621359\n",
      "C=0.2, gamma=5.0, acc_train=0.9717514124293786, acc_test=0.7184466019417476\n",
      "C=0.5, gamma=0.0001, acc_train=0.6454802259887006, acc_test=0.6699029126213593\n",
      "C=0.5, gamma=0.001, acc_train=0.7655367231638418, acc_test=0.7184466019417476\n",
      "C=0.5, gamma=0.1, acc_train=0.8206214689265536, acc_test=0.8446601941747572\n",
      "C=0.5, gamma=1.0, acc_train=0.9364406779661016, acc_test=0.883495145631068\n",
      "C=0.5, gamma=2.0, acc_train=0.9703389830508474, acc_test=0.883495145631068\n",
      "C=0.5, gamma=5.0, acc_train=0.9830508474576272, acc_test=0.8058252427184466\n",
      "C=1.0, gamma=0.0001, acc_train=0.7189265536723164, acc_test=0.6601941747572816\n",
      "C=1.0, gamma=0.001, acc_train=0.7641242937853108, acc_test=0.7184466019417476\n",
      "C=1.0, gamma=0.1, acc_train=0.8785310734463276, acc_test=0.8543689320388349\n",
      "C=1.0, gamma=1.0, acc_train=0.9717514124293786, acc_test=0.883495145631068\n",
      "C=1.0, gamma=2.0, acc_train=0.9858757062146892, acc_test=0.8737864077669902\n",
      "C=1.0, gamma=5.0, acc_train=0.9943502824858758, acc_test=0.883495145631068\n",
      "C=2.0, gamma=0.0001, acc_train=0.7556497175141242, acc_test=0.7087378640776699\n",
      "C=2.0, gamma=0.001, acc_train=0.7740112994350282, acc_test=0.7184466019417476\n",
      "C=2.0, gamma=0.1, acc_train=0.8926553672316384, acc_test=0.8640776699029126\n",
      "C=2.0, gamma=1.0, acc_train=0.9774011299435028, acc_test=0.8737864077669902\n",
      "C=2.0, gamma=2.0, acc_train=0.9915254237288136, acc_test=0.8640776699029126\n",
      "C=2.0, gamma=5.0, acc_train=0.9971751412429378, acc_test=0.883495145631068\n",
      "C=3.0, gamma=0.0001, acc_train=0.7542372881355932, acc_test=0.7475728155339806\n",
      "C=3.0, gamma=0.001, acc_train=0.7754237288135594, acc_test=0.7766990291262136\n",
      "C=3.0, gamma=0.1, acc_train=0.9067796610169492, acc_test=0.883495145631068\n",
      "C=3.0, gamma=1.0, acc_train=0.9830508474576272, acc_test=0.8543689320388349\n",
      "C=3.0, gamma=2.0, acc_train=0.9929378531073446, acc_test=0.8737864077669902\n",
      "C=3.0, gamma=5.0, acc_train=0.9971751412429378, acc_test=0.883495145631068\n",
      "C=10.0, gamma=0.0001, acc_train=0.7669491525423728, acc_test=0.7184466019417476\n",
      "C=10.0, gamma=0.001, acc_train=0.7853107344632768, acc_test=0.7961165048543689\n",
      "C=10.0, gamma=0.1, acc_train=0.9378531073446328, acc_test=0.9029126213592233\n",
      "C=10.0, gamma=1.0, acc_train=0.9957627118644068, acc_test=0.8640776699029126\n",
      "C=10.0, gamma=2.0, acc_train=0.9971751412429378, acc_test=0.883495145631068\n",
      "C=10.0, gamma=5.0, acc_train=1.0, acc_test=0.883495145631068\n"
     ]
    }
   ],
   "source": [
    "acc_train_list = []\n",
    "acc_test_list = []\n",
    "for d in param_grid:\n",
    "    svm = SVC(C=d[\"C\"], kernel=\"rbf\", gamma=d[\"gamma\"])\n",
    "    svm = svm.fit(fl_train_data_trans, train_labels)\n",
    "    train_preds = svm.predict(fl_train_data_trans)\n",
    "    acc_train = accuracy_score(train_labels, train_preds)\n",
    "    test_preds = svm.predict(fl_test_data_trans)\n",
    "    acc_test = accuracy_score(test_labels, test_preds)\n",
    "    print(f\"C={d['C']}, gamma={d['gamma']}, acc_train={acc_train}, acc_test={acc_test}\")"
   ]
  },
  {
   "cell_type": "code",
   "execution_count": 18,
   "metadata": {},
   "outputs": [],
   "source": [
    "svm = SVC(C=10.0, kernel=\"rbf\", gamma=0.1)\n",
    "svm = svm.fit(fl_train_data_trans, train_labels)"
   ]
  },
  {
   "cell_type": "code",
   "execution_count": 19,
   "metadata": {},
   "outputs": [
    {
     "name": "stdout",
     "output_type": "stream",
     "text": [
      "              precision    recall  f1-score   support\n",
      "\n",
      "          20       0.93      0.95      0.94       354\n",
      "          21       0.95      0.93      0.94       354\n",
      "\n",
      "    accuracy                           0.94       708\n",
      "   macro avg       0.94      0.94      0.94       708\n",
      "weighted avg       0.94      0.94      0.94       708\n",
      "\n"
     ]
    }
   ],
   "source": [
    "train_preds = svm.predict(fl_train_data_trans)\n",
    "print(classification_report(train_labels, train_preds))"
   ]
  },
  {
   "cell_type": "code",
   "execution_count": 20,
   "metadata": {},
   "outputs": [
    {
     "name": "stdout",
     "output_type": "stream",
     "text": [
      "              precision    recall  f1-score   support\n",
      "\n",
      "          20       0.86      0.96      0.91        52\n",
      "          21       0.96      0.84      0.90        51\n",
      "\n",
      "    accuracy                           0.90       103\n",
      "   macro avg       0.91      0.90      0.90       103\n",
      "weighted avg       0.91      0.90      0.90       103\n",
      "\n"
     ]
    }
   ],
   "source": [
    "test_preds = svm.predict(fl_test_data_trans)\n",
    "print(classification_report(test_labels, test_preds))"
   ]
  }
 ],
 "metadata": {
  "interpreter": {
   "hash": "7c29817cf05d3dc48fb635fb318e22d885cd8ef3f3f0e149db08f2fbce105280"
  },
  "kernelspec": {
   "display_name": "Python 3.7.11 ('XAIFL')",
   "language": "python",
   "name": "python3"
  },
  "language_info": {
   "codemirror_mode": {
    "name": "ipython",
    "version": 3
   },
   "file_extension": ".py",
   "mimetype": "text/x-python",
   "name": "python",
   "nbconvert_exporter": "python",
   "pygments_lexer": "ipython3",
   "version": "3.7.11"
  },
  "orig_nbformat": 4
 },
 "nbformat": 4,
 "nbformat_minor": 2
}
