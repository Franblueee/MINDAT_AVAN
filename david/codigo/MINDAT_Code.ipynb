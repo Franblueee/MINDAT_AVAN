{
 "cells": [
  {
   "cell_type": "code",
   "execution_count": 1,
   "metadata": {
    "colab": {
     "base_uri": "https://localhost:8080/"
    },
    "id": "M2y5Xs2cLS_v",
    "outputId": "7d8873d8-0dad-40d6-dfa5-53618903824c"
   },
   "outputs": [],
   "source": [
    "#from google.colab import drive\n",
    "#drive.mount('/content/drive')\n",
    "\n",
    "#import os\n",
    "#path_wd='drive/MyDrive/MINDAT Aspectos Avanzados/lulc-classification'\n",
    "#os.chdir(path_wd)"
   ]
  },
  {
   "cell_type": "code",
   "execution_count": 5,
   "metadata": {},
   "outputs": [
    {
     "name": "stdout",
     "output_type": "stream",
     "text": [
      "['/device:CPU:0']\n"
     ]
    }
   ],
   "source": [
    "from tensorflow.python.client import device_lib\n",
    "\n",
    "def get_available_devices():\n",
    "    local_device_protos = device_lib.list_local_devices()\n",
    "    return [x.name for x in local_device_protos]\n",
    "\n",
    "print(get_available_devices())"
   ]
  },
  {
   "cell_type": "markdown",
   "metadata": {
    "id": "Q_ZcuMCdF7uY"
   },
   "source": [
    "Cargamos las bibliotecas necesarias"
   ]
  },
  {
   "cell_type": "code",
   "execution_count": 4,
   "metadata": {
    "id": "twRCOTo4xbHP"
   },
   "outputs": [],
   "source": [
    "import numpy as np\n",
    "import keras\n",
    "import matplotlib.pyplot as plt\n",
    "import keras.utils as np_utils\n",
    "from keras.preprocessing.image import load_img,img_to_array\n",
    "from keras.utils import np_utils\n",
    "import cv2\n",
    "import os\n",
    "import pandas as pd\n",
    "import tensorflow as tf\n",
    "from tensorflow import keras\n",
    "from tensorflow.keras import layers  #Para definición de capas\n",
    "from numpy.random import seed           #Para controlar generación de pesos\n",
    "from tensorflow.keras.preprocessing.image import ImageDataGenerator #Para procesado de imágenes\n",
    "import tensorflow.random\n",
    "\n",
    "import matplotlib.pyplot as plt\n",
    "from tensorflow.keras.preprocessing.image import ImageDataGenerator #Para procesado de imágenes\n",
    "\n",
    "from tensorflow.keras.applications.resnet import preprocess_input"
   ]
  },
  {
   "cell_type": "markdown",
   "metadata": {
    "id": "gJAQuhwnGSAt"
   },
   "source": [
    "Consideramos unas semillas aleatorias para garantizar reproducibilidad en los experimentos"
   ]
  },
  {
   "cell_type": "code",
   "execution_count": null,
   "metadata": {
    "id": "wTLMgEQrxbkD"
   },
   "outputs": [],
   "source": [
    "seed(1)\n",
    "tensorflow.random.set_seed(0)"
   ]
  },
  {
   "cell_type": "markdown",
   "metadata": {
    "id": "oFMnyMUrGaZk"
   },
   "source": [
    "Fijamos los paths donde se encuentran las imagenes"
   ]
  },
  {
   "cell_type": "code",
   "execution_count": null,
   "metadata": {
    "id": "6XeMyPfpHucA"
   },
   "outputs": [],
   "source": [
    "train_dir = \"./Sentinel2LULC_354/Sentinel2LULC_354\"\n",
    "test_dir = \"./Test 2/Test 2\"\n",
    "weights_file = None"
   ]
  },
  {
   "cell_type": "markdown",
   "metadata": {
    "id": "pzEq0sPTMw6D"
   },
   "source": [
    "Vamos a definir funciones auxiliares que nos ayudarán a visualizar diferentes aspectos"
   ]
  },
  {
   "cell_type": "markdown",
   "metadata": {
    "id": "b9Pfdi90NVvS"
   },
   "source": [
    "La primera función irá destinada a calcular la precisión total del modelo"
   ]
  },
  {
   "cell_type": "code",
   "execution_count": null,
   "metadata": {
    "id": "F7dwlo4bM0li"
   },
   "outputs": [],
   "source": [
    "def calcularAccuracy(labels, preds):\n",
    "  labels = np.argmax(labels, axis = 1)\n",
    "  preds = np.argmax(preds, axis = 1)\n",
    "  accuracy = sum(labels == preds)/len(labels)\n",
    "  return accuracy"
   ]
  },
  {
   "cell_type": "markdown",
   "metadata": {
    "id": "bmu7sDOAS3eb"
   },
   "source": [
    "Vamos a hacer también una función para calcular la precisión por clase en el modelo"
   ]
  },
  {
   "cell_type": "code",
   "execution_count": null,
   "metadata": {
    "id": "OANNmz-cTR-0"
   },
   "outputs": [],
   "source": [
    "def calcularAccuracyClases(labels, preds):\n",
    "  well_pred = np.zeros(labels.shape[1]).tolist()\n",
    "  total = np.zeros(labels.shape[1]).tolist()\n",
    "\n",
    "  labels = np.argmax(labels, axis = 1)\n",
    "  preds = np.argmax(preds, axis = 1)\n",
    "\n",
    "  for i in len(labels):\n",
    "    total[labels[i]] += 1\n",
    "    if labels[i] == preds[i]:\n",
    "      well_pred[labels[i]] += 1\n",
    "  \n",
    "  for i in len(well_pred):\n",
    "    well_pred[i] /= float(total[i])\n",
    "  \n",
    "  return well_pred"
   ]
  },
  {
   "cell_type": "markdown",
   "metadata": {
    "id": "JdHeGtnUU1AG"
   },
   "source": [
    "Vamos a hacer una función también para visualizar la evolución de la medida de interés (accuracy en este caso) en entrenamiento y validación para cada época"
   ]
  },
  {
   "cell_type": "code",
   "execution_count": null,
   "metadata": {
    "id": "sYzYPTkUU9IZ"
   },
   "outputs": [],
   "source": [
    "def mostrarEvolucion(hist):\n",
    "  loss = hist.history['loss']\n",
    "  val_loss = hist.history['val_loss']\n",
    "  plt.plot(loss)\n",
    "  plt.plot(val_loss)\n",
    "  plt.legend(['Training loss', 'Validation loss'])\n",
    "  plt.show()\n",
    "\n",
    "\n",
    "  acc = hist.history['accuracy']\n",
    "  val_acc = hist.history['val_accuracy']\n",
    "  plt.plot(acc)\n",
    "  plt.plot(val_acc)\n",
    "  plt.legend(['Training accuracy','Validation accuracy'])\n",
    "  plt.ylim(0,1)           #Meto esto para mejor comparación de gráficas\n",
    "  plt.show()"
   ]
  },
  {
   "cell_type": "markdown",
   "metadata": {
    "id": "5AlVCnX4Hux5"
   },
   "source": [
    "Realizamos la lectura de las imagenes"
   ]
  },
  {
   "cell_type": "code",
   "execution_count": null,
   "metadata": {
    "colab": {
     "base_uri": "https://localhost:8080/"
    },
    "id": "4qG8QF3BGsb2",
    "outputId": "70d8d6e4-1331-41df-8608-3f2a1d2d05ad"
   },
   "outputs": [],
   "source": [
    "print(\"--- LECTURA DE IMÁGENES ---\")\n",
    "\n",
    "print(\"- Cargando imágenes de entrenamiento...\")\n",
    "\n",
    "x_train = []\n",
    "y_train = []\n",
    "\n",
    "for root, _, files in os.walk(train_dir):\n",
    "    for file in files:\n",
    "        if file.endswith(\".jpg\"):               \n",
    "            x_train.append(cv2.imread(os.path.join(root, file), 1))\n",
    "            y_train.append(int(file.split(\"_\")[0]))\n",
    "\n",
    "x_test = []\n",
    "y_test = []\n",
    "names_test = []\n",
    "\n",
    "print(\"- Cargando imágenes de test...\")\n",
    "\n",
    "for root, _, files in os.walk(test_dir):\n",
    "    for file in files:\n",
    "        if file.endswith(\".jpg\"):               \n",
    "            x_test.append(cv2.imread(os.path.join(root, file), 1))\n",
    "            y_test.append(int(file.split(\"_\")[0]))\n",
    "            names_test.append(file)\n",
    "\n",
    "# Convertir a numpy array\n",
    "x_train = np.array(x_train)\n",
    "x_test = np.array(x_test)\n",
    "y_train = np.array(y_train)\n",
    "y_test = np.array(y_test)\n",
    "names_test = np.array(names_test)\n",
    "\n",
    "# Normalizar las imágenes\n",
    "x_train = x_train.astype('float32')\n",
    "x_test = x_test.astype('float32')\n",
    "\n",
    "x_train = x_train / 255.0\n",
    "x_test = x_test / 255.0\n",
    "\n",
    "print(np.amax(x_train))\n",
    "\n",
    "# Convertir a categóricas las etiquetas\n",
    "y_train = y_train-1\n",
    "y_test = y_test-1\n",
    "y_train = np_utils.to_categorical(y_train, 29)\n",
    "y_test = np_utils.to_categorical(y_test, 29)"
   ]
  },
  {
   "cell_type": "markdown",
   "metadata": {
    "id": "O6ne6WkTJC_F"
   },
   "source": [
    "Definimos ahora el modelo que vamos a utilizar"
   ]
  },
  {
   "cell_type": "code",
   "execution_count": null,
   "metadata": {
    "id": "UnwstZAJJDnG"
   },
   "outputs": [],
   "source": [
    " print(\"--- DEFINICIÓN DEL MODELO ---\")\n",
    "print(\"- Creando modelo...\")\n",
    "inputs = keras.Input(shape=(224,224,3))       #Las imágenes tendrán dimensión 224x224 y 3 bandas\n",
    "# 224 * 224 * 3\n",
    "conv1 = layers.Conv2D(6, 5, activation=\"relu\")(inputs)      #Al hacerlo así, estamos aplicando la convolución y luego la activación\n",
    "# 220 * 220 * 6\n",
    "maxpooling1 = layers.MaxPooling2D()(conv1)\n",
    "# 110 * 110 * 6\n",
    "conv2 = layers.Conv2D(16, 3, activation=\"relu\")(maxpooling1)\n",
    "# 108 * 108 * 16\n",
    "maxpooling2 = layers.MaxPooling2D()(conv2)\n",
    "# 54 * 54 * 16\n",
    "conv3 = layers.Conv2D(32, 3, activation=\"relu\")(maxpooling2)\n",
    "# 52 * 52 * 32\n",
    "maxpooling3 = layers.MaxPooling2D()(conv3)\n",
    "# 26 * 26 * 32\n",
    "conv4 = layers.Conv2D(40, 3, activation=\"relu\")(maxpooling3)\n",
    "# 24 * 24 * 40\n",
    "maxpooling4 = layers.MaxPooling2D()(conv4)\n",
    "# 12 * 12 * 40\n",
    "conv5 = layers.Conv2D(50, 3, activation=\"relu\")(maxpooling4)\n",
    "# 10 * 10 * 50\n",
    "maxpooling5 = layers.MaxPooling2D()(conv5)\n",
    "# 5 * 5 * 50\n",
    "\n",
    "flatten = layers.Flatten()(maxpooling5)                 #Convierte la información a array de 5 * 5 * 50 = 1250 posiciones\n",
    "# 1250\n",
    "dense1 = layers.Dense(50, activation=\"relu\")(flatten)\n",
    "# 50\n",
    "outputs = layers.Dense(29, activation=\"softmax\")(dense1)\n",
    "# 29 -> probabilidades de pertenecer a cada clase\n",
    "\n",
    "#Ahora asociamos la estructura a nuestro modelo\n",
    "model = keras.Model(inputs=inputs, outputs=outputs)\n",
    "\n",
    "#Imprimimos ahora información del modelo para ver que es correcta.\n",
    "model.summary()\n",
    "\n",
    "#Ponemos inicialmente el optimizador que nos viene dado en las diapos de prácticas\n",
    "opt = tf.keras.optimizers.SGD(lr=0.01, decay= 1e-6, momentum=0.9, nesterov=True)\n",
    "\n",
    "#La función de pérdida que utilizaremos será la categorical_crossentropy.\n",
    "#Compilamos el modelo.\n",
    "model.compile(optimizer='adam', loss=\"categorical_crossentropy\", metrics=[\"accuracy\"])\n",
    "\n",
    "\n",
    "# Una vez tenemos el modelo base, si se indica un archivo de pesos para inicializar,\n",
    "# los vamos a cargar\n",
    "if not weights_file is None:\n",
    "    model.load_weights(weights_file)"
   ]
  },
  {
   "cell_type": "markdown",
   "metadata": {
    "id": "5Q26u2ayL74n"
   },
   "source": [
    "Ejecutamos el modelo"
   ]
  },
  {
   "cell_type": "code",
   "execution_count": null,
   "metadata": {
    "id": "wONKlvm8Me3V"
   },
   "outputs": [],
   "source": [
    "print(\"--- ENTRENAMIENTO DEL MODELO ---\")\n",
    "p_train = np.random.permutation(len(x_train))\n",
    "p_test = np.random.permutation(len(x_test))\n",
    "\n",
    "x_train = x_train[p_train]\n",
    "y_train = y_train[p_train]\n",
    "x_test = x_test[p_test]\n",
    "y_test = y_test[p_test]\n",
    "names_test = names_test[p_test]\n",
    "\n",
    "print(\"- Entrenando el modelo...\")\n",
    "history = model.fit(x_train, y_train, batch_size= 32, epochs=10, validation_split=0.1)\n",
    "model.save_weights('my_model_weights.h5')\n",
    "mostrarEvolucion(history)"
   ]
  },
  {
   "cell_type": "markdown",
   "metadata": {
    "id": "CKwBKCzbM3QJ"
   },
   "source": [
    "Realizamos la predicción sobre el conjunto de test"
   ]
  },
  {
   "cell_type": "code",
   "execution_count": null,
   "metadata": {
    "id": "ZezqaeT6M98y"
   },
   "outputs": [],
   "source": [
    "pred = model.predict(x_test,verbose=1)\n",
    "print(pred)\n",
    "    \n"
   ]
  },
  {
   "cell_type": "markdown",
   "metadata": {
    "id": "bKTCaVdrUqkj"
   },
   "source": [
    "Calculamos algunas medidas de interés sobre la predicción realizada"
   ]
  },
  {
   "cell_type": "code",
   "execution_count": null,
   "metadata": {
    "id": "gx2D3QlDUvi-"
   },
   "outputs": [],
   "source": [
    "print(\"Accuracy on test: \" + str(calcularAccuracy(y_test, pred)))\n",
    "pred = np.argmax(pred, axis = 1)\n",
    "print(pred)\n",
    "pred = pred+1\n",
    "\n",
    "results = pd.DataFrame({'id.jpg': names_test, 'label': pred})\n",
    "results.to_csv('pred1.csv', index=False)"
   ]
  }
 ],
 "metadata": {
  "colab": {
   "collapsed_sections": [],
   "name": "MINDAT_Code.ipynb",
   "provenance": []
  },
  "kernelspec": {
   "display_name": "Python 3 (ipykernel)",
   "language": "python",
   "name": "python3"
  },
  "language_info": {
   "codemirror_mode": {
    "name": "ipython",
    "version": 3
   },
   "file_extension": ".py",
   "mimetype": "text/x-python",
   "name": "python",
   "nbconvert_exporter": "python",
   "pygments_lexer": "ipython3",
   "version": "3.10.3"
  }
 },
 "nbformat": 4,
 "nbformat_minor": 1
}
