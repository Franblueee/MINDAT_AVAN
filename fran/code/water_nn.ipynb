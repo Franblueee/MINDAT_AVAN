{
 "cells": [
  {
   "cell_type": "code",
   "execution_count": 1,
   "metadata": {},
   "outputs": [],
   "source": [
    "import tensorflow as tf\n",
    "import numpy as np\n",
    "from sklearn.metrics import classification_report, accuracy_score\n",
    "from sklearn.decomposition import PCA\n",
    "from sklearn.svm import SVC\n",
    "from sklearn.model_selection import GridSearchCV, ParameterGrid\n",
    "\n",
    "import matplotlib.pyplot as plt\n",
    "import utils\n",
    "import pandas as pd"
   ]
  },
  {
   "cell_type": "code",
   "execution_count": 2,
   "metadata": {},
   "outputs": [
    {
     "data": {
      "text/plain": [
       "[PhysicalDevice(name='/physical_device:CPU:0', device_type='CPU'),\n",
       " PhysicalDevice(name='/physical_device:GPU:0', device_type='GPU')]"
      ]
     },
     "execution_count": 2,
     "metadata": {},
     "output_type": "execute_result"
    }
   ],
   "source": [
    "tf.config.list_physical_devices()"
   ]
  },
  {
   "cell_type": "code",
   "execution_count": 3,
   "metadata": {},
   "outputs": [],
   "source": [
    "MAIN_PATH = \"/mnt/homeGPU/fcastro/MINDAT_AVAN/fran/\"\n",
    "#MAIN_PATH = \"/home/franblue/PROYECTOS/lulc/\"\n",
    "\n",
    "#data_dir = \"../reduced_data/\"\n",
    "data_dir = MAIN_PATH + \"data/\"\n",
    "batch_size = 32\n",
    "img_height = 224\n",
    "img_width = 224"
   ]
  },
  {
   "cell_type": "code",
   "execution_count": 4,
   "metadata": {},
   "outputs": [],
   "source": [
    "train_data, train_labels, test_data, test_labels, test_names = utils.load_data(data_dir, norm=False)"
   ]
  },
  {
   "cell_type": "code",
   "execution_count": 5,
   "metadata": {},
   "outputs": [],
   "source": [
    "idx = np.logical_or(train_labels==20, train_labels==21)\n",
    "train_data = train_data[idx]\n",
    "train_data=train_data/127.5-1.0\n",
    "train_labels = train_labels[idx]\n",
    "\n",
    "idx = np.logical_or(test_labels==20, test_labels==21)\n",
    "test_data = test_data[idx]\n",
    "test_data=test_data/127.5-1.0\n",
    "test_labels = test_labels[idx]"
   ]
  },
  {
   "cell_type": "code",
   "execution_count": 6,
   "metadata": {},
   "outputs": [],
   "source": [
    "train_labels_oh = train_labels.copy()\n",
    "train_labels_oh[train_labels_oh==20] = 0\n",
    "train_labels_oh[train_labels_oh==21] = 1\n",
    "train_labels_oh = tf.one_hot(train_labels_oh, 2).numpy()\n",
    "\n",
    "test_labels_oh = test_labels.copy()\n",
    "test_labels_oh[test_labels_oh==20] = 0\n",
    "test_labels_oh[test_labels_oh==21] = 1\n",
    "test_labels_oh = tf.one_hot(test_labels_oh, 2).numpy()"
   ]
  },
  {
   "cell_type": "code",
   "execution_count": 7,
   "metadata": {},
   "outputs": [],
   "source": [
    "fl_train_data = train_data.reshape(train_data.shape[0], -1)\n",
    "fl_test_data = test_data.reshape(test_data.shape[0], -1)\n",
    "pca = PCA()\n",
    "pca = pca.fit(fl_train_data)\n",
    "fl_train_data_trans = pca.transform(fl_train_data)\n",
    "fl_test_data_trans = pca.transform(fl_test_data)"
   ]
  },
  {
   "cell_type": "code",
   "execution_count": 29,
   "metadata": {},
   "outputs": [],
   "source": [
    "inputs = tf.keras.layers.Input(shape=(fl_train_data_trans.shape[1]))\n",
    "x = tf.keras.layers.Dense(128)(inputs)\n",
    "x = tf.keras.layers.Activation('relu')(x)\n",
    "x = tf.keras.layers.Dense(64)(x)\n",
    "x = tf.keras.layers.Activation('relu')(x)\n",
    "x = tf.keras.layers.Dense(16)(x)\n",
    "x = tf.keras.layers.BatchNormalization()(x)\n",
    "x = tf.keras.layers.Activation('relu')(x)\n",
    "outputs = tf.keras.layers.Dense(2, activation='softmax')(x)"
   ]
  },
  {
   "cell_type": "code",
   "execution_count": 30,
   "metadata": {},
   "outputs": [],
   "source": [
    "model = tf.keras.Model(inputs=inputs, outputs=outputs)\n",
    "optimizer = tf.keras.optimizers.RMSprop(0.00001)\n",
    "metrics = [tf.keras.metrics.categorical_accuracy]\n",
    "loss = tf.keras.losses.CategoricalCrossentropy()\n",
    "early_stopping = tf.keras.callbacks.EarlyStopping(monitor='val_categorical_accuracy', patience=10, verbose=0, mode='auto', restore_best_weights=True)\n",
    "callbacks = [early_stopping]\n",
    "model.compile(optimizer=optimizer, loss=loss, metrics=metrics)"
   ]
  },
  {
   "cell_type": "code",
   "execution_count": 31,
   "metadata": {},
   "outputs": [
    {
     "name": "stdout",
     "output_type": "stream",
     "text": [
      "Epoch 1/5\n",
      "36/36 [==============================] - 1s 9ms/step - loss: 0.7991 - categorical_accuracy: 0.4788 - val_loss: 0.3000 - val_categorical_accuracy: 0.9225\n",
      "Epoch 2/5\n",
      "36/36 [==============================] - 0s 5ms/step - loss: 0.7626 - categorical_accuracy: 0.4859 - val_loss: 0.3756 - val_categorical_accuracy: 0.8662\n",
      "Epoch 3/5\n",
      "36/36 [==============================] - 0s 5ms/step - loss: 0.7491 - categorical_accuracy: 0.5212 - val_loss: 0.4341 - val_categorical_accuracy: 0.8451\n",
      "Epoch 4/5\n",
      "36/36 [==============================] - 0s 5ms/step - loss: 0.7209 - categorical_accuracy: 0.5300 - val_loss: 0.4780 - val_categorical_accuracy: 0.7958\n",
      "Epoch 5/5\n",
      "36/36 [==============================] - 0s 5ms/step - loss: 0.7174 - categorical_accuracy: 0.5477 - val_loss: 0.5083 - val_categorical_accuracy: 0.7465\n"
     ]
    }
   ],
   "source": [
    "hist = model.fit(fl_train_data_trans, train_labels_oh, epochs=5, batch_size=16, validation_split=0.2, callbacks=callbacks)\n",
    "#hist = model.fit(fl_train_data_trans, train_labels_oh, epochs=100, batch_size=32, validation_split=0.2, callbacks=callbacks)"
   ]
  },
  {
   "cell_type": "code",
   "execution_count": 32,
   "metadata": {},
   "outputs": [
    {
     "data": {
      "text/plain": [
       "0.36893203883495146"
      ]
     },
     "execution_count": 32,
     "metadata": {},
     "output_type": "execute_result"
    }
   ],
   "source": [
    "preds = model.predict(fl_test_data_trans)\n",
    "accuracy_score(np.argmax(test_labels_oh, axis=-1), np.argmax(preds, axis=-1))"
   ]
  }
 ],
 "metadata": {
  "interpreter": {
   "hash": "2bbb852bde81e338db6cf224d74d4c3486987bda86e5ae049e06a29dceefc884"
  },
  "kernelspec": {
   "display_name": "newlulc",
   "language": "python",
   "name": "newlulc"
  },
  "language_info": {
   "codemirror_mode": {
    "name": "ipython",
    "version": 3
   },
   "file_extension": ".py",
   "mimetype": "text/x-python",
   "name": "python",
   "nbconvert_exporter": "python",
   "pygments_lexer": "ipython3",
   "version": "3.7.11"
  },
  "orig_nbformat": 4
 },
 "nbformat": 4,
 "nbformat_minor": 2
}
