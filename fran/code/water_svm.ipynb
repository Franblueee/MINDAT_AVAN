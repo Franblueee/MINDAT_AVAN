{
 "cells": [
  {
   "cell_type": "code",
   "execution_count": 1,
   "metadata": {},
   "outputs": [
    {
     "name": "stderr",
     "output_type": "stream",
     "text": [
      "2022-04-09 19:41:24.573531: W tensorflow/stream_executor/platform/default/dso_loader.cc:64] Could not load dynamic library 'libcudart.so.11.0'; dlerror: libcudart.so.11.0: cannot open shared object file: No such file or directory\n",
      "2022-04-09 19:41:24.573586: I tensorflow/stream_executor/cuda/cudart_stub.cc:29] Ignore above cudart dlerror if you do not have a GPU set up on your machine.\n"
     ]
    }
   ],
   "source": [
    "import tensorflow as tf\n",
    "import numpy as np\n",
    "from sklearn.metrics import classification_report, accuracy_score\n",
    "from sklearn.decomposition import PCA\n",
    "from sklearn.svm import SVC\n",
    "from sklearn.model_selection import GridSearchCV, ParameterGrid\n",
    "\n",
    "import matplotlib.pyplot as plt\n",
    "import utils\n",
    "import pandas as pd"
   ]
  },
  {
   "cell_type": "code",
   "execution_count": 2,
   "metadata": {},
   "outputs": [],
   "source": [
    "#MAIN_PATH = \"/mnt/homeGPU/fcastro/MINDAT_AVAN/fran/\"\n",
    "MAIN_PATH = \"/home/franblue/PROYECTOS/lulc/\"\n",
    "\n",
    "#data_dir = \"../reduced_data/\"\n",
    "data_dir = MAIN_PATH + \"data/\"\n",
    "batch_size = 32\n",
    "img_height = 224\n",
    "img_width = 224"
   ]
  },
  {
   "cell_type": "code",
   "execution_count": 3,
   "metadata": {},
   "outputs": [],
   "source": [
    "train_data, train_labels, test_data, test_labels, test_names = utils.load_data(data_dir, norm=False)"
   ]
  },
  {
   "cell_type": "code",
   "execution_count": 4,
   "metadata": {},
   "outputs": [],
   "source": [
    "idx = np.logical_or(train_labels==20, train_labels==21)\n",
    "train_data = train_data[idx]\n",
    "train_data=train_data/255.0\n",
    "train_labels = train_labels[idx]\n",
    "\n",
    "idx = np.logical_or(test_labels==20, test_labels==21)\n",
    "test_data = test_data[idx]\n",
    "test_data=test_data/255.0\n",
    "test_labels = test_labels[idx]"
   ]
  },
  {
   "cell_type": "code",
   "execution_count": 5,
   "metadata": {},
   "outputs": [],
   "source": [
    "fl_train_data = train_data.reshape(train_data.shape[0], -1)\n",
    "fl_test_data = test_data.reshape(test_data.shape[0], -1)"
   ]
  },
  {
   "cell_type": "code",
   "execution_count": 6,
   "metadata": {},
   "outputs": [],
   "source": [
    "#hsv_train_data = tf.image.rgb_to_hsv(train_data).numpy()\n",
    "#fl_hsv_train_data = hsv_train_data.reshape(hsv_train_data.shape[0], -1)\n",
    "\n",
    "#hsv_test_data = tf.image.rgb_to_hsv(test_data).numpy()\n",
    "#fl_hsv_test_data = hsv_test_data.reshape(hsv_test_data.shape[0], -1)"
   ]
  },
  {
   "cell_type": "code",
   "execution_count": 7,
   "metadata": {},
   "outputs": [],
   "source": [
    "#fl_train_data = np.concatenate((fl_train_data, fl_hsv_train_data), axis=1)\n",
    "#fl_test_data = np.concatenate((fl_test_data, fl_hsv_test_data), axis=1)\n",
    "#fl_train_data = fl_hsv_train_data\n",
    "#fl_test_data = fl_hsv_test_data"
   ]
  },
  {
   "cell_type": "code",
   "execution_count": 8,
   "metadata": {},
   "outputs": [],
   "source": [
    "pca = PCA(n_components=708)\n",
    "pca = pca.fit(fl_train_data)"
   ]
  },
  {
   "cell_type": "code",
   "execution_count": 26,
   "metadata": {},
   "outputs": [
    {
     "data": {
      "text/plain": [
       "Text(750, 0.99, 'y=0.99')"
      ]
     },
     "execution_count": 26,
     "metadata": {},
     "output_type": "execute_result"
    },
    {
     "data": {
      "image/png": "[encoded data removed]",
      "text/plain": [
       "<Figure size 1080x720 with 1 Axes>"
      ]
     },
     "metadata": {
      "needs_background": "light"
     },
     "output_type": "display_data"
    }
   ],
   "source": [
    "cumsum=np.cumsum(pca.explained_variance_ratio_)\n",
    "plt.figure(figsize=(15,10))\n",
    "plt.subplot(2,1,1)\n",
    "plt.plot(cumsum/cumsum[-1])\n",
    "plt.title('Varianza acumulada')\n",
    "plt.axvline(x=10, color='red', linewidth=1, linestyle='--')\n",
    "plt.axvline(x=100, color='red', linewidth=1,linestyle='--')\n",
    "plt.axhline(y=0.99, color='red', linewidth=1,linestyle='--')\n",
    "plt.text(x=750, y=0.99, s=\"y=0.99\", color='red')"
   ]
  },
  {
   "cell_type": "code",
   "execution_count": null,
   "metadata": {},
   "outputs": [],
   "source": [
    "fl_train_data_trans = pca.transform(fl_train_data)[:,0:n_components]\n",
    "fl_test_data_trans = pca.transform(fl_test_data)[:,0:n_components]"
   ]
  },
  {
   "cell_type": "code",
   "execution_count": null,
   "metadata": {},
   "outputs": [],
   "source": [
    "idx_20 = train_labels==20\n",
    "fig = plt.figure()\n",
    "ax = fig.add_subplot()\n",
    "ax.scatter(fl_train_data_trans[idx_20,0], fl_train_data_trans[idx_20,1], label=\"20\")\n",
    "idx_21 = train_labels==21\n",
    "ax.scatter(fl_train_data_trans[idx_21,0], fl_train_data_trans[idx_21,1], label=\"21\")\n",
    "plt.legend()"
   ]
  },
  {
   "cell_type": "code",
   "execution_count": 136,
   "metadata": {},
   "outputs": [
    {
     "data": {
      "text/plain": [
       "<matplotlib.legend.Legend at 0x7f35bce01950>"
      ]
     },
     "execution_count": 136,
     "metadata": {},
     "output_type": "execute_result"
    },
    {
     "data": {
      "image/png": "[encoded data removed]",
      "text/plain": [
       "<Figure size 432x288 with 1 Axes>"
      ]
     },
     "metadata": {
      "needs_background": "light"
     },
     "output_type": "display_data"
    }
   ],
   "source": [
    "idx_20 = test_labels==20\n",
    "fig = plt.figure()\n",
    "ax = fig.add_subplot()\n",
    "ax.scatter(fl_test_data_trans[idx_20,0], fl_test_data_trans[idx_20,1], label=\"20\")\n",
    "idx_21 = test_labels==21\n",
    "ax.scatter(fl_test_data_trans[idx_21,0], fl_test_data_trans[idx_21,1], label=\"21\")\n",
    "plt.legend()"
   ]
  },
  {
   "cell_type": "code",
   "execution_count": 137,
   "metadata": {},
   "outputs": [],
   "source": [
    "param_dic = {\"C\" : [0.0001, 0.001, 0.1, 0.2, 0.5, 1.0, 2.0, 3.0, 10.0], \"gamma\" : [0.0001, 0.001, 0.1, 1.0, 2.0, 5.0]}\n",
    "\n",
    "param_grid = ParameterGrid(param_dic)"
   ]
  },
  {
   "cell_type": "code",
   "execution_count": 138,
   "metadata": {},
   "outputs": [],
   "source": [
    "svm = SVC(kernel=\"rbf\")\n",
    "gs = GridSearchCV(svm, param_dic)\n",
    "gs = gs.fit(fl_train_data_trans, train_labels)"
   ]
  },
  {
   "cell_type": "code",
   "execution_count": 139,
   "metadata": {},
   "outputs": [
    {
     "name": "stdout",
     "output_type": "stream",
     "text": [
      "{'C': 3.0, 'gamma': 0.001}\n",
      "0.7739986015383079\n"
     ]
    }
   ],
   "source": [
    "print(gs.best_params_)\n",
    "print(gs.best_score_)"
   ]
  },
  {
   "cell_type": "code",
   "execution_count": 140,
   "metadata": {},
   "outputs": [],
   "source": [
    "svm = SVC(C=gs.best_params_[\"C\"], kernel=\"rbf\", gamma=gs.best_params_[\"gamma\"])\n",
    "#svm = SVC(C=10.0, kernel=\"rbf\", gamma=0.1)\n",
    "svm = svm.fit(fl_train_data_trans, train_labels)"
   ]
  },
  {
   "cell_type": "code",
   "execution_count": 141,
   "metadata": {},
   "outputs": [
    {
     "name": "stdout",
     "output_type": "stream",
     "text": [
      "              precision    recall  f1-score   support\n",
      "\n",
      "          20       0.78      0.88      0.82       354\n",
      "          21       0.86      0.75      0.80       354\n",
      "\n",
      "    accuracy                           0.81       708\n",
      "   macro avg       0.82      0.81      0.81       708\n",
      "weighted avg       0.82      0.81      0.81       708\n",
      "\n"
     ]
    }
   ],
   "source": [
    "train_preds = svm.predict(fl_train_data_trans)\n",
    "print(classification_report(train_labels, train_preds))"
   ]
  },
  {
   "cell_type": "code",
   "execution_count": 142,
   "metadata": {},
   "outputs": [
    {
     "name": "stdout",
     "output_type": "stream",
     "text": [
      "              precision    recall  f1-score   support\n",
      "\n",
      "          20       0.80      0.87      0.83        52\n",
      "          21       0.85      0.78      0.82        51\n",
      "\n",
      "    accuracy                           0.83       103\n",
      "   macro avg       0.83      0.82      0.82       103\n",
      "weighted avg       0.83      0.83      0.82       103\n",
      "\n"
     ]
    }
   ],
   "source": [
    "test_preds = svm.predict(fl_test_data_trans)\n",
    "print(classification_report(test_labels, test_preds))"
   ]
  },
  {
   "cell_type": "code",
   "execution_count": 143,
   "metadata": {},
   "outputs": [
    {
     "name": "stdout",
     "output_type": "stream",
     "text": [
      "C=0.0001, gamma=0.0001, acc_train=0.6200564971751412, acc_test=0.6601941747572816\n",
      "C=0.0001, gamma=0.001, acc_train=0.6680790960451978, acc_test=0.7572815533980582\n",
      "C=0.0001, gamma=0.1, acc_train=0.6002824858757062, acc_test=0.7669902912621359\n",
      "C=0.0001, gamma=1.0, acc_train=0.614406779661017, acc_test=0.6116504854368932\n",
      "C=0.0001, gamma=2.0, acc_train=1.0, acc_test=0.5922330097087378\n",
      "C=0.0001, gamma=5.0, acc_train=1.0, acc_test=0.5145631067961165\n",
      "C=0.001, gamma=0.0001, acc_train=0.6200564971751412, acc_test=0.6601941747572816\n",
      "C=0.001, gamma=0.001, acc_train=0.6680790960451978, acc_test=0.7572815533980582\n",
      "C=0.001, gamma=0.1, acc_train=0.6002824858757062, acc_test=0.7669902912621359\n",
      "C=0.001, gamma=1.0, acc_train=0.614406779661017, acc_test=0.6116504854368932\n",
      "C=0.001, gamma=2.0, acc_train=1.0, acc_test=0.5922330097087378\n",
      "C=0.001, gamma=5.0, acc_train=1.0, acc_test=0.5145631067961165\n",
      "C=0.1, gamma=0.0001, acc_train=0.6638418079096046, acc_test=0.6699029126213593\n",
      "C=0.1, gamma=0.001, acc_train=0.7556497175141242, acc_test=0.7475728155339806\n",
      "C=0.1, gamma=0.1, acc_train=0.6454802259887006, acc_test=0.8640776699029126\n",
      "C=0.1, gamma=1.0, acc_train=0.614406779661017, acc_test=0.6116504854368932\n",
      "C=0.1, gamma=2.0, acc_train=1.0, acc_test=0.5922330097087378\n",
      "C=0.1, gamma=5.0, acc_train=1.0, acc_test=0.5145631067961165\n",
      "C=0.2, gamma=0.0001, acc_train=0.6878531073446328, acc_test=0.6699029126213593\n",
      "C=0.2, gamma=0.001, acc_train=0.7612994350282486, acc_test=0.7766990291262136\n",
      "C=0.2, gamma=0.1, acc_train=0.7189265536723164, acc_test=0.9223300970873787\n",
      "C=0.2, gamma=1.0, acc_train=0.614406779661017, acc_test=0.6116504854368932\n",
      "C=0.2, gamma=2.0, acc_train=1.0, acc_test=0.5922330097087378\n",
      "C=0.2, gamma=5.0, acc_train=1.0, acc_test=0.5145631067961165\n",
      "C=0.5, gamma=0.0001, acc_train=0.7203389830508474, acc_test=0.6601941747572816\n",
      "C=0.5, gamma=0.001, acc_train=0.7782485875706214, acc_test=0.8058252427184466\n",
      "C=0.5, gamma=0.1, acc_train=0.8234463276836158, acc_test=0.9514563106796117\n",
      "C=0.5, gamma=1.0, acc_train=0.9929378531073446, acc_test=0.6407766990291263\n",
      "C=0.5, gamma=2.0, acc_train=1.0, acc_test=0.5922330097087378\n",
      "C=0.5, gamma=5.0, acc_train=1.0, acc_test=0.5145631067961165\n",
      "C=1.0, gamma=0.0001, acc_train=0.751412429378531, acc_test=0.6504854368932039\n",
      "C=1.0, gamma=0.001, acc_train=0.7853107344632768, acc_test=0.8155339805825242\n",
      "C=1.0, gamma=0.1, acc_train=0.9731638418079096, acc_test=0.9514563106796117\n",
      "C=1.0, gamma=1.0, acc_train=1.0, acc_test=0.8543689320388349\n",
      "C=1.0, gamma=2.0, acc_train=1.0, acc_test=0.7766990291262136\n",
      "C=1.0, gamma=5.0, acc_train=1.0, acc_test=0.6116504854368932\n",
      "C=2.0, gamma=0.0001, acc_train=0.768361581920904, acc_test=0.6310679611650486\n",
      "C=2.0, gamma=0.001, acc_train=0.809322033898305, acc_test=0.8252427184466019\n",
      "C=2.0, gamma=0.1, acc_train=0.9858757062146892, acc_test=0.941747572815534\n",
      "C=2.0, gamma=1.0, acc_train=1.0, acc_test=0.8737864077669902\n",
      "C=2.0, gamma=2.0, acc_train=1.0, acc_test=0.8155339805825242\n",
      "C=2.0, gamma=5.0, acc_train=1.0, acc_test=0.6310679611650486\n",
      "C=3.0, gamma=0.0001, acc_train=0.768361581920904, acc_test=0.6310679611650486\n",
      "C=3.0, gamma=0.001, acc_train=0.8107344632768362, acc_test=0.8252427184466019\n",
      "C=3.0, gamma=0.1, acc_train=0.9901129943502824, acc_test=0.9320388349514563\n",
      "C=3.0, gamma=1.0, acc_train=1.0, acc_test=0.8737864077669902\n",
      "C=3.0, gamma=2.0, acc_train=1.0, acc_test=0.8155339805825242\n",
      "C=3.0, gamma=5.0, acc_train=1.0, acc_test=0.6310679611650486\n",
      "C=10.0, gamma=0.0001, acc_train=0.7782485875706214, acc_test=0.7669902912621359\n",
      "C=10.0, gamma=0.001, acc_train=0.8333333333333334, acc_test=0.8252427184466019\n",
      "C=10.0, gamma=0.1, acc_train=0.9971751412429378, acc_test=0.883495145631068\n",
      "C=10.0, gamma=1.0, acc_train=1.0, acc_test=0.8737864077669902\n",
      "C=10.0, gamma=2.0, acc_train=1.0, acc_test=0.8155339805825242\n",
      "C=10.0, gamma=5.0, acc_train=1.0, acc_test=0.6310679611650486\n"
     ]
    }
   ],
   "source": [
    "acc_train_list = []\n",
    "acc_test_list = []\n",
    "for d in param_grid:\n",
    "    svm = SVC(C=d[\"C\"], kernel=\"rbf\", gamma=d[\"gamma\"])\n",
    "    svm = svm.fit(fl_train_data_trans, train_labels)\n",
    "    train_preds = svm.predict(fl_train_data_trans)\n",
    "    acc_train = accuracy_score(train_labels, train_preds)\n",
    "    test_preds = svm.predict(fl_test_data_trans)\n",
    "    acc_test = accuracy_score(test_labels, test_preds)\n",
    "    print(f\"C={d['C']}, gamma={d['gamma']}, acc_train={acc_train}, acc_test={acc_test}\")"
   ]
  },
  {
   "cell_type": "code",
   "execution_count": 144,
   "metadata": {},
   "outputs": [],
   "source": [
    "svm = SVC(C=1.0, kernel=\"rbf\", gamma=0.1)\n",
    "#svm = SVC(C=10.0, kernel=\"rbf\", gamma=0.1)\n",
    "svm = svm.fit(fl_train_data_trans, train_labels)"
   ]
  },
  {
   "cell_type": "code",
   "execution_count": 145,
   "metadata": {},
   "outputs": [
    {
     "name": "stdout",
     "output_type": "stream",
     "text": [
      "              precision    recall  f1-score   support\n",
      "\n",
      "          20       0.97      0.98      0.97       354\n",
      "          21       0.98      0.97      0.97       354\n",
      "\n",
      "    accuracy                           0.97       708\n",
      "   macro avg       0.97      0.97      0.97       708\n",
      "weighted avg       0.97      0.97      0.97       708\n",
      "\n"
     ]
    }
   ],
   "source": [
    "train_preds = svm.predict(fl_train_data_trans)\n",
    "print(classification_report(train_labels, train_preds))"
   ]
  },
  {
   "cell_type": "code",
   "execution_count": 146,
   "metadata": {},
   "outputs": [
    {
     "name": "stdout",
     "output_type": "stream",
     "text": [
      "              precision    recall  f1-score   support\n",
      "\n",
      "          20       0.93      0.98      0.95        52\n",
      "          21       0.98      0.92      0.95        51\n",
      "\n",
      "    accuracy                           0.95       103\n",
      "   macro avg       0.95      0.95      0.95       103\n",
      "weighted avg       0.95      0.95      0.95       103\n",
      "\n"
     ]
    }
   ],
   "source": [
    "test_preds = svm.predict(fl_test_data_trans)\n",
    "print(classification_report(test_labels, test_preds))"
   ]
  }
 ],
 "metadata": {
  "interpreter": {
   "hash": "7c29817cf05d3dc48fb635fb318e22d885cd8ef3f3f0e149db08f2fbce105280"
  },
  "kernelspec": {
   "display_name": "newlulc",
   "language": "python",
   "name": "python3"
  },
  "language_info": {
   "codemirror_mode": {
    "name": "ipython",
    "version": 3
   },
   "file_extension": ".py",
   "mimetype": "text/x-python",
   "name": "python",
   "nbconvert_exporter": "python",
   "pygments_lexer": "ipython3",
   "version": "3.7.11"
  },
  "orig_nbformat": 4
 },
 "nbformat": 4,
 "nbformat_minor": 2
}
