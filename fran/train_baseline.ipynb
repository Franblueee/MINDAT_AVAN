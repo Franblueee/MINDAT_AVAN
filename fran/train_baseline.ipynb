{
 "cells": [
  {
   "cell_type": "code",
   "execution_count": 1,
   "metadata": {},
   "outputs": [],
   "source": [
    "import tensorflow as tf\n",
    "import numpy as np\n",
    "import matplotlib.pyplot as plt\n",
    "from sklearn.metrics import accuracy_score, f1_score\n",
    "from sklearn.model_selection import train_test_split\n",
    "\n",
    "import utils\n",
    "import models"
   ]
  },
  {
   "cell_type": "code",
   "execution_count": 2,
   "metadata": {},
   "outputs": [
    {
     "data": {
      "text/plain": [
       "[PhysicalDevice(name='/physical_device:CPU:0', device_type='CPU'),\n",
       " PhysicalDevice(name='/physical_device:GPU:0', device_type='GPU')]"
      ]
     },
     "execution_count": 2,
     "metadata": {},
     "output_type": "execute_result"
    }
   ],
   "source": [
    "tf.config.list_physical_devices()"
   ]
  },
  {
   "cell_type": "code",
   "execution_count": 3,
   "metadata": {},
   "outputs": [],
   "source": [
    "#data_dir = \"../reduced_data/\"\n",
    "data_dir = \"../data/\"\n",
    "batch_size = 32\n",
    "img_height = 224\n",
    "img_width = 224"
   ]
  },
  {
   "cell_type": "code",
   "execution_count": 4,
   "metadata": {},
   "outputs": [],
   "source": [
    "train_data, train_labels, test_data, test_labels, test_names = utils.load_data(data_dir, norm=False)\n",
    "train_data = tf.keras.applications.resnet50.preprocess_input(train_data)\n",
    "test_data = tf.keras.applications.resnet50.preprocess_input(test_data)\n",
    "train_labels = tf.one_hot(train_labels, 29).numpy()\n",
    "test_labels = tf.one_hot(test_labels, 29).numpy()\n",
    "\n",
    "idx = np.arange(len(train_data))\n",
    "train_idx, val_idx = train_test_split(idx,test_size=0.1, random_state=0)\n",
    "val_data = train_data[val_idx]\n",
    "val_labels = train_labels[val_idx]\n",
    "train_data = train_data[train_idx]\n",
    "train_labels = train_labels[train_idx]"
   ]
  },
  {
   "cell_type": "code",
   "execution_count": 5,
   "metadata": {},
   "outputs": [],
   "source": [
    "data_augmentation = models.DA1()\n",
    "def prep_fn(img):\n",
    "    img = tf.expand_dims(img, axis=0)\n",
    "    new_img = data_augmentation(img)[0]\n",
    "    return new_img\n",
    "\n",
    "train_generator = tf.keras.preprocessing.image.ImageDataGenerator(preprocessing_function=prep_fn)\n",
    "train_generator.fit(train_data)\n",
    "val_generator = tf.keras.preprocessing.image.ImageDataGenerator()"
   ]
  },
  {
   "cell_type": "code",
   "execution_count": 6,
   "metadata": {},
   "outputs": [
    {
     "name": "stdout",
     "output_type": "stream",
     "text": [
      "Downloading data from https://storage.googleapis.com/tensorflow/keras-applications/resnet/resnet101_weights_tf_dim_ordering_tf_kernels_notop.h5\n",
      "171450368/171446536 [==============================] - 3s 0us/step\n"
     ]
    }
   ],
   "source": [
    "#model = models.resnet50_baseline()\n",
    "model = models.resnet101_baseline()\n",
    "\n",
    "loss = tf.keras.losses.CategoricalCrossentropy()\n",
    "optimizer = tf.keras.optimizers.Adam(learning_rate=0.0001, amsgrad=True)\n",
    "#optimizer = tf.keras.optimizers.RMSprop(learning_rate=0.001)\n",
    "metrics = [tf.keras.metrics.categorical_accuracy]\n",
    "patience = 10\n",
    "callbacks = [tf.keras.callbacks.EarlyStopping(monitor='val_loss', patience=patience, verbose=0, mode='auto', restore_best_weights=True)]\n",
    "model.compile(optimizer=optimizer, loss=loss, metrics=metrics)"
   ]
  },
  {
   "cell_type": "code",
   "execution_count": 7,
   "metadata": {},
   "outputs": [
    {
     "name": "stdout",
     "output_type": "stream",
     "text": [
      "Epoch 1/30\n",
      "289/289 [==============================] - 97s 314ms/step - loss: 1.8546 - categorical_accuracy: 0.4645 - val_loss: 0.9293 - val_categorical_accuracy: 0.6680\n",
      "Epoch 2/30\n",
      "289/289 [==============================] - 87s 301ms/step - loss: 0.8414 - categorical_accuracy: 0.7069 - val_loss: 0.7782 - val_categorical_accuracy: 0.6981\n",
      "Epoch 3/30\n",
      "289/289 [==============================] - ETA: 0s - loss: 0.6861 - categorical_accuracy: 0.7381"
     ]
    }
   ],
   "source": [
    "train_it = train_generator.flow(train_data, train_labels, batch_size)\n",
    "val_it = val_generator.flow(val_data, val_labels, batch_size)\n",
    "\n",
    "#hist = model.fit(train_data, train_labels, epochs=30, callbacks=callbacks, validation_data=(test_data, test_labels), batch_size=128)\n",
    "hist = model.fit(train_it, validation_data=val_it, epochs=30, callbacks=callbacks)"
   ]
  },
  {
   "cell_type": "code",
   "execution_count": null,
   "metadata": {},
   "outputs": [],
   "source": [
    "#model.save_weights(\"./weights/resnet50_baseline_DA.h5\")"
   ]
  },
  {
   "cell_type": "code",
   "execution_count": null,
   "metadata": {},
   "outputs": [
    {
     "name": "stdout",
     "output_type": "stream",
     "text": [
      "0.6625463535228677\n",
      "0.6625463535228677\n"
     ]
    }
   ],
   "source": [
    "preds = model(test_data)\n",
    "acc = accuracy_score(np.argmax(test_labels, axis=-1), np.argmax(preds, axis=-1))\n",
    "f1 = f1_score(np.argmax(test_labels, axis=-1), np.argmax(preds, axis=-1), average=\"micro\")\n",
    "print(acc)\n",
    "print(f1)"
   ]
  }
 ],
 "metadata": {
  "interpreter": {
   "hash": "8c44e4db4f739c045931fc5dd4ca3c77305ac0ed53658a546d0d7aad379bfe30"
  },
  "kernelspec": {
   "display_name": "XAIFL",
   "language": "python",
   "name": "xaifl"
  },
  "language_info": {
   "codemirror_mode": {
    "name": "ipython",
    "version": 3
   },
   "file_extension": ".py",
   "mimetype": "text/x-python",
   "name": "python",
   "nbconvert_exporter": "python",
   "pygments_lexer": "ipython3",
   "version": "3.7.11"
  }
 },
 "nbformat": 4,
 "nbformat_minor": 2
}
