{
 "cells": [
  {
   "cell_type": "code",
   "execution_count": 124,
   "metadata": {},
   "outputs": [],
   "source": [
    "import os\n",
    "import numpy as np\n",
    "from utils import *\n",
    "import matplotlib.pyplot as plt\n",
    "from sklearn.decomposition import PCA\n",
    "\n",
    "\n",
    "import tensorflow as tf\n",
    "from tensorflow.keras.models import Model, load_model\n",
    "from tensorflow.keras.layers import Input, Dense\n",
    "from tensorflow.keras.optimizers import RMSprop"
   ]
  },
  {
   "cell_type": "code",
   "execution_count": 125,
   "metadata": {},
   "outputs": [],
   "source": [
    "# Cada uno aqui ubicad vuestra carpeta de datos\n",
    "data_dir = os.path.join(\"..\",\"..\",\"..\",\"data\")"
   ]
  },
  {
   "cell_type": "code",
   "execution_count": 126,
   "metadata": {},
   "outputs": [],
   "source": [
    "train_data, train_labels, test_data, test_labels, test_names = load_data(data_dir, norm=False)\n"
   ]
  },
  {
   "cell_type": "code",
   "execution_count": 127,
   "metadata": {},
   "outputs": [],
   "source": [
    "select_train_data = np.array([train_data[i] for i, label in enumerate(train_labels) if label in (21,22)])\n",
    "select_train_labels = np.array([label for label in train_labels if label in (21,22)])\n",
    "select_train_labels = tf.one_hot(select_train_labels, depth=2)"
   ]
  },
  {
   "cell_type": "code",
   "execution_count": 128,
   "metadata": {},
   "outputs": [],
   "source": [
    "pca_transformer = PCA().fit(select_train_data.reshape(-1,(224*224*3)))\n",
    "pca_train_data = pca_transformer.transform(select_train_data.reshape(-1,(224*224*3)))"
   ]
  },
  {
   "cell_type": "code",
   "execution_count": 131,
   "metadata": {},
   "outputs": [],
   "source": [
    "model_path = os.path.join(os.getcwd(), \"pca+nn.h5\")\n",
    "if os.path.exists(model_path):\n",
    "    model = load_model(model_path)\n",
    "else:\n",
    "    inputs = Input(shape=(pca_train_data.shape[1]))\n",
    "    x = Dense(256, activation='relu')(inputs)\n",
    "    x = Dense(128, activation='relu')(inputs)\n",
    "    x = Dense(64, activation='relu')(x)\n",
    "    x = Dense(16, activation='relu')(x)\n",
    "\n",
    "    outputs = Dense(2, activation='sigmoid')(x)\n",
    "\n",
    "    model = Model(inputs=inputs, outputs=outputs)\n",
    "    model.compile(optimizer=RMSprop(0.0001),loss=\"binary_crossentropy\", metrics=['accuracy'])\n",
    "    model.fit(pca_train_data, select_train_labels, epochs=10, batch_size=16, validation_split=0.2)"
   ]
  },
  {
   "cell_type": "code",
   "execution_count": 132,
   "metadata": {},
   "outputs": [
    {
     "name": "stdout",
     "output_type": "stream",
     "text": [
      "Model: \"model_13\"\n",
      "_________________________________________________________________\n",
      " Layer (type)                Output Shape              Param #   \n",
      "=================================================================\n",
      " input_19 (InputLayer)       [(None, 708)]             0         \n",
      "                                                                 \n",
      " dense_66 (Dense)            (None, 128)               90752     \n",
      "                                                                 \n",
      " dense_67 (Dense)            (None, 64)                8256      \n",
      "                                                                 \n",
      " dense_68 (Dense)            (None, 16)                1040      \n",
      "                                                                 \n",
      " dense_69 (Dense)            (None, 2)                 34        \n",
      "                                                                 \n",
      "=================================================================\n",
      "Total params: 100,082\n",
      "Trainable params: 100,082\n",
      "Non-trainable params: 0\n",
      "_________________________________________________________________\n"
     ]
    }
   ],
   "source": [
    "model.summary()"
   ]
  },
  {
   "cell_type": "code",
   "execution_count": null,
   "metadata": {},
   "outputs": [],
   "source": [
    "select_test_data = np.array([test_data[i] for i, label in enumerate(test_labels) if label in (21,22)])\n",
    "pca_test_data = pca_transformer.transform(select_test_data.reshape(-1,(224*224*3)))\n",
    "\n",
    "select_test_labels = np.array([label for label in test_labels if label in (21,22)])\n",
    "select_test_labels = tf.one_hot(select_test_labels, depth=2)"
   ]
  },
  {
   "cell_type": "code",
   "execution_count": null,
   "metadata": {},
   "outputs": [
    {
     "name": "stdout",
     "output_type": "stream",
     "text": [
      "4/4 [==============================] - 0s 4ms/step - loss: 6.1164e-24 - accuracy: 0.9612\n"
     ]
    },
    {
     "data": {
      "text/plain": [
       "[6.116373075202318e-24, 0.9611650705337524]"
      ]
     },
     "execution_count": 116,
     "metadata": {},
     "output_type": "execute_result"
    }
   ],
   "source": [
    "model.evaluate(pca_test_data, select_test_labels)"
   ]
  },
  {
   "cell_type": "code",
   "execution_count": null,
   "metadata": {},
   "outputs": [],
   "source": [
    "# Cuidado descomentando esto\n",
    "#model.save_weights(\"pca+nn_weights.h5\")\n",
    "#model.save(\"pca+nn.h5\")"
   ]
  }
 ],
 "metadata": {
  "interpreter": {
   "hash": "05cab942c8b354e601bccc729a2e72329b03fbcaad4e6e149a4badf09246ceeb"
  },
  "kernelspec": {
   "display_name": "Python 3.8.5 ('base')",
   "language": "python",
   "name": "python3"
  },
  "language_info": {
   "codemirror_mode": {
    "name": "ipython",
    "version": 3
   },
   "file_extension": ".py",
   "mimetype": "text/x-python",
   "name": "python",
   "nbconvert_exporter": "python",
   "pygments_lexer": "ipython3",
   "version": "3.8.5"
  },
  "orig_nbformat": 4
 },
 "nbformat": 4,
 "nbformat_minor": 2
}
