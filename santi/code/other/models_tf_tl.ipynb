{
 "cells": [
  {
   "cell_type": "code",
   "execution_count": 1,
   "id": "fcbbdab7-5b3b-4f15-bf5e-6f4c85b5e7c1",
   "metadata": {},
   "outputs": [],
   "source": [
    "import tensorflow as tf"
   ]
  },
  {
   "cell_type": "code",
   "execution_count": 2,
   "id": "80b085c8-b2c9-42ac-ae15-0a42636532df",
   "metadata": {},
   "outputs": [
    {
     "name": "stdout",
     "output_type": "stream",
     "text": [
      "Downloading data from https://storage.googleapis.com/tensorflow/keras-applications/vgg19/vgg19_weights_tf_dim_ordering_tf_kernels_notop.h5\n",
      "80142336/80134624 [==============================] - 242s 3us/step\n",
      "80150528/80134624 [==============================] - 242s 3us/step\n"
     ]
    }
   ],
   "source": [
    "base = tf.keras.applications.vgg19.VGG19(include_top=False, weights='imagenet', pooling='avg')\n",
    "len(base.layers)"
   ]
  },
  {
   "cell_type": "code",
   "execution_count": 6,
   "id": "beba1177-a77d-4bdd-a7c3-94360e65400c",
   "metadata": {},
   "outputs": [
    {
     "name": "stdout",
     "output_type": "stream",
     "text": [
      "WARNING:tensorflow:`input_shape` is undefined or non-square, or `rows` is not in [128, 160, 192, 224]. Weights for input shape (224, 224) will be loaded as the default.\n"
     ]
    },
    {
     "data": {
      "text/plain": [
       "87"
      ]
     },
     "execution_count": 6,
     "metadata": {},
     "output_type": "execute_result"
    }
   ],
   "source": [
    "base = tf.keras.applications.mobilenet.MobileNet(include_top=False, weights='imagenet', pooling='avg')\n",
    "len(base.layers)"
   ]
  },
  {
   "cell_type": "code",
   "execution_count": 8,
   "id": "dd536306-e034-47aa-b650-6462a17f1bdb",
   "metadata": {},
   "outputs": [
    {
     "name": "stdout",
     "output_type": "stream",
     "text": [
      "Downloading data from https://storage.googleapis.com/tensorflow/keras-applications/efficientnet_v2/efficientnetv2-b0_notop.h5\n",
      "24281088/24274472 [==============================] - 24s 1us/step\n",
      "24289280/24274472 [==============================] - 24s 1us/step\n"
     ]
    },
    {
     "data": {
      "text/plain": [
       "256"
      ]
     },
     "execution_count": 8,
     "metadata": {},
     "output_type": "execute_result"
    }
   ],
   "source": [
    "base = tf.keras.applications.efficientnet_v2.EfficientNetV2B0(include_top=False, weights='imagenet', pooling='avg')\n",
    "len(base.layers)"
   ]
  }
 ],
 "metadata": {
  "kernelspec": {
   "display_name": "Python 3 (ipykernel)",
   "language": "python",
   "name": "python3"
  },
  "language_info": {
   "codemirror_mode": {
    "name": "ipython",
    "version": 3
   },
   "file_extension": ".py",
   "mimetype": "text/x-python",
   "name": "python",
   "nbconvert_exporter": "python",
   "pygments_lexer": "ipython3",
   "version": "3.7.12"
  }
 },
 "nbformat": 4,
 "nbformat_minor": 5
}
