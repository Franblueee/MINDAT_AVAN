{
 "cells": [
  {
   "cell_type": "code",
   "execution_count": 1,
   "metadata": {
    "colab": {
     "base_uri": "https://localhost:8080/"
    },
    "id": "M2y5Xs2cLS_v",
    "outputId": "7d8873d8-0dad-40d6-dfa5-53618903824c"
   },
   "outputs": [],
   "source": [
    "#from google.colab import drive\n",
    "#drive.mount('/content/drive')\n",
    "\n",
    "#import os\n",
    "#path_wd='drive/MyDrive/MINDAT Aspectos Avanzados/lulc-classification'\n",
    "#os.chdir(path_wd)"
   ]
  },
  {
   "cell_type": "code",
   "execution_count": 2,
   "metadata": {},
   "outputs": [
    {
     "name": "stdout",
     "output_type": "stream",
     "text": [
      "['/device:CPU:0', '/device:GPU:0']\n"
     ]
    }
   ],
   "source": [
    "from tensorflow.python.client import device_lib\n",
    "\n",
    "def get_available_devices():\n",
    "    local_device_protos = device_lib.list_local_devices()\n",
    "    return [x.name for x in local_device_protos]\n",
    "\n",
    "print(get_available_devices())"
   ]
  },
  {
   "cell_type": "markdown",
   "metadata": {
    "id": "Q_ZcuMCdF7uY"
   },
   "source": [
    "Cargamos las bibliotecas necesarias"
   ]
  },
  {
   "cell_type": "code",
   "execution_count": 3,
   "metadata": {
    "id": "twRCOTo4xbHP"
   },
   "outputs": [],
   "source": [
    "import numpy as np\n",
    "import keras\n",
    "import matplotlib.pyplot as plt\n",
    "import keras.utils as np_utils\n",
    "from keras.preprocessing.image import load_img,img_to_array\n",
    "from keras.utils import np_utils\n",
    "import cv2\n",
    "import os\n",
    "import pandas as pd\n",
    "import tensorflow as tf\n",
    "from tensorflow import keras\n",
    "from tensorflow.keras import layers  #Para definición de capas\n",
    "from numpy.random import seed           #Para controlar generación de pesos\n",
    "from tensorflow.keras.preprocessing.image import ImageDataGenerator #Para procesado de imágenes\n",
    "import tensorflow.random\n",
    "\n",
    "import matplotlib.pyplot as plt\n",
    "from tensorflow.keras.preprocessing.image import ImageDataGenerator #Para procesado de imágenes\n",
    "\n",
    "from tensorflow.keras.applications.resnet import preprocess_input\n",
    "from sklearn.model_selection import train_test_split\n",
    "\n",
    "\n",
    "from keras.applications.resnet import ResNet50\n"
   ]
  },
  {
   "cell_type": "markdown",
   "metadata": {
    "id": "gJAQuhwnGSAt"
   },
   "source": [
    "Consideramos unas semillas aleatorias para garantizar reproducibilidad en los experimentos"
   ]
  },
  {
   "cell_type": "code",
   "execution_count": 4,
   "metadata": {
    "id": "wTLMgEQrxbkD"
   },
   "outputs": [],
   "source": [
    "seed(1)\n",
    "tensorflow.random.set_seed(0)"
   ]
  },
  {
   "cell_type": "markdown",
   "metadata": {
    "id": "oFMnyMUrGaZk"
   },
   "source": [
    "Fijamos los paths donde se encuentran las imagenes"
   ]
  },
  {
   "cell_type": "code",
   "execution_count": 5,
   "metadata": {
    "id": "6XeMyPfpHucA"
   },
   "outputs": [],
   "source": [
    "train_dir = \"./Sentinel2LULC_354/Sentinel2LULC_354\"\n",
    "test_dir = \"./Test 2/Test 2\"\n",
    "weights_file = None"
   ]
  },
  {
   "cell_type": "markdown",
   "metadata": {
    "id": "pzEq0sPTMw6D"
   },
   "source": [
    "Vamos a definir funciones auxiliares que nos ayudarán a visualizar diferentes aspectos"
   ]
  },
  {
   "cell_type": "markdown",
   "metadata": {
    "id": "b9Pfdi90NVvS"
   },
   "source": [
    "La primera función irá destinada a calcular la precisión total del modelo"
   ]
  },
  {
   "cell_type": "code",
   "execution_count": 6,
   "metadata": {
    "id": "F7dwlo4bM0li"
   },
   "outputs": [],
   "source": [
    "def calcularAccuracy(labels, preds):\n",
    "  labels = np.argmax(labels, axis = 1)\n",
    "  preds = np.argmax(preds, axis = 1)\n",
    "  accuracy = sum(labels == preds)/len(labels)\n",
    "  return accuracy"
   ]
  },
  {
   "cell_type": "markdown",
   "metadata": {
    "id": "bmu7sDOAS3eb"
   },
   "source": [
    "Vamos a hacer también una función para calcular la precisión por clase en el modelo"
   ]
  },
  {
   "cell_type": "code",
   "execution_count": 7,
   "metadata": {
    "id": "OANNmz-cTR-0"
   },
   "outputs": [],
   "source": [
    "def calcularAccuracyClases(labels, preds):\n",
    "  well_pred = np.zeros(labels.shape[1]).tolist()\n",
    "  total = np.zeros(labels.shape[1]).tolist()\n",
    "\n",
    "  labels = np.argmax(labels, axis = 1)\n",
    "  preds = np.argmax(preds, axis = 1)\n",
    "\n",
    "  for i in len(labels):\n",
    "    total[labels[i]] += 1\n",
    "    if labels[i] == preds[i]:\n",
    "      well_pred[labels[i]] += 1\n",
    "  \n",
    "  for i in len(well_pred):\n",
    "    well_pred[i] /= float(total[i])\n",
    "  \n",
    "  return well_pred"
   ]
  },
  {
   "cell_type": "markdown",
   "metadata": {
    "id": "JdHeGtnUU1AG"
   },
   "source": [
    "Vamos a hacer una función también para visualizar la evolución de la medida de interés (accuracy en este caso) en entrenamiento y validación para cada época"
   ]
  },
  {
   "cell_type": "code",
   "execution_count": 8,
   "metadata": {
    "id": "sYzYPTkUU9IZ"
   },
   "outputs": [],
   "source": [
    "def mostrarEvolucion(hist):\n",
    "  loss = hist.history['loss']\n",
    "  val_loss = hist.history['val_loss']\n",
    "  plt.plot(loss)\n",
    "  plt.plot(val_loss)\n",
    "  plt.legend(['Training loss', 'Validation loss'])\n",
    "  plt.show()\n",
    "\n",
    "\n",
    "  acc = hist.history['accuracy']\n",
    "  val_acc = hist.history['val_accuracy']\n",
    "  plt.plot(acc)\n",
    "  plt.plot(val_acc)\n",
    "  plt.legend(['Training accuracy','Validation accuracy'])\n",
    "  plt.ylim(0,1)           #Meto esto para mejor comparación de gráficas\n",
    "  plt.show()"
   ]
  },
  {
   "cell_type": "markdown",
   "metadata": {
    "id": "5AlVCnX4Hux5"
   },
   "source": [
    "Realizamos la lectura de las imagenes"
   ]
  },
  {
   "cell_type": "code",
   "execution_count": 9,
   "metadata": {
    "colab": {
     "base_uri": "https://localhost:8080/"
    },
    "id": "4qG8QF3BGsb2",
    "outputId": "70d8d6e4-1331-41df-8608-3f2a1d2d05ad"
   },
   "outputs": [
    {
     "name": "stdout",
     "output_type": "stream",
     "text": [
      "--- LECTURA DE IMÁGENES ---\n",
      "- Cargando imágenes de entrenamiento...\n",
      "- Cargando imágenes de test...\n"
     ]
    }
   ],
   "source": [
    "print(\"--- LECTURA DE IMÁGENES ---\")\n",
    "\n",
    "print(\"- Cargando imágenes de entrenamiento...\")\n",
    "\n",
    "x_train = []\n",
    "y_train = []\n",
    "\n",
    "for root, _, files in os.walk(train_dir):\n",
    "    for file in files:\n",
    "        if file.endswith(\".jpg\"):               \n",
    "            x_train.append(cv2.imread(os.path.join(root, file), 1))\n",
    "            y_train.append(int(file.split(\"_\")[0]))\n",
    "\n",
    "x_test = []\n",
    "y_test = []\n",
    "names_test = []\n",
    "\n",
    "print(\"- Cargando imágenes de test...\")\n",
    "\n",
    "for root, _, files in os.walk(test_dir):\n",
    "    for file in files:\n",
    "        if file.endswith(\".jpg\"):               \n",
    "            x_test.append(cv2.imread(os.path.join(root, file), 1))\n",
    "            y_test.append(int(file.split(\"_\")[0]))\n",
    "            names_test.append(file)\n",
    "\n",
    "            \n",
    "x_train = np.array(x_train)\n",
    "y_train = np.array(y_train)\n",
    "x_test = np.array(x_test)\n",
    "y_test = np.array(y_test)\n",
    "\n",
    "train, val = train_test_split(np.arange(len(y_train)), test_size=0.1, random_state=5, stratify=y_train)\n",
    "\n",
    "x_val = x_train[val]\n",
    "y_val = y_train[val]\n",
    "y_train = y_train[train]\n",
    "x_train = x_train[train]\n"
   ]
  },
  {
   "cell_type": "code",
   "execution_count": 20,
   "metadata": {},
   "outputs": [
    {
     "name": "stdout",
     "output_type": "stream",
     "text": [
      "(9239, 224, 224, 3)\n",
      "(9239,)\n",
      "Epoch 1/5\n",
      "289/289 [==============================] - 19s 63ms/step - loss: 2.4487 - categorical_accuracy: 0.3424 - val_loss: 1.7846 - val_categorical_accuracy: 0.5268\n",
      "Epoch 2/5\n",
      "289/289 [==============================] - 18s 63ms/step - loss: 1.4654 - categorical_accuracy: 0.5982 - val_loss: 1.3281 - val_categorical_accuracy: 0.6173\n",
      "Epoch 3/5\n",
      "289/289 [==============================] - 18s 62ms/step - loss: 1.1620 - categorical_accuracy: 0.6623 - val_loss: 1.1381 - val_categorical_accuracy: 0.6475\n",
      "Epoch 4/5\n",
      "289/289 [==============================] - 18s 62ms/step - loss: 1.0066 - categorical_accuracy: 0.6998 - val_loss: 1.0379 - val_categorical_accuracy: 0.6826\n",
      "Epoch 5/5\n",
      "289/289 [==============================] - 18s 62ms/step - loss: 0.9082 - categorical_accuracy: 0.7251 - val_loss: 0.9742 - val_categorical_accuracy: 0.6865\n"
     ]
    },
    {
     "data": {
      "image/png": "[encoded data removed]",
      "text/plain": [
       "<Figure size 576x576 with 2 Axes>"
      ]
     },
     "metadata": {
      "needs_background": "light"
     },
     "output_type": "display_data"
    },
    {
     "name": "stdout",
     "output_type": "stream",
     "text": [
      "51/51 [==============================] - 3s 55ms/step - loss: 0.9868 - categorical_accuracy: 0.6799\n",
      "Test loss: 0.9867753386497498, test acc: 0.6798516511917114\n"
     ]
    },
    {
     "data": {
      "image/png": "[encoded data removed]",
      "text/plain": [
       "<Figure size 720x1440 with 2 Axes>"
      ]
     },
     "metadata": {
      "needs_background": "light"
     },
     "output_type": "display_data"
    },
    {
     "ename": "NameError",
     "evalue": "name 'test_data' is not defined",
     "output_type": "error",
     "traceback": [
      "\u001b[1;31m---------------------------------------------------------------------------\u001b[0m",
      "\u001b[1;31mNameError\u001b[0m                                 Traceback (most recent call last)",
      "\u001b[1;32m<ipython-input-20-6ae130f6da43>\u001b[0m in \u001b[0;36m<module>\u001b[1;34m\u001b[0m\n\u001b[0;32m    134\u001b[0m \u001b[0mtrain_evaluate_model\u001b[0m\u001b[1;33m(\u001b[0m\u001b[0mmodel_avgg\u001b[0m\u001b[1;33m,\u001b[0m \u001b[1;34m'avgg19_256_128'\u001b[0m\u001b[1;33m)\u001b[0m\u001b[1;33m\u001b[0m\u001b[1;33m\u001b[0m\u001b[0m\n\u001b[0;32m    135\u001b[0m \u001b[1;33m\u001b[0m\u001b[0m\n\u001b[1;32m--> 136\u001b[1;33m \u001b[0mpredictions_file\u001b[0m\u001b[1;33m(\u001b[0m\u001b[0mmodel_avgg\u001b[0m\u001b[1;33m)\u001b[0m\u001b[1;33m\u001b[0m\u001b[1;33m\u001b[0m\u001b[0m\n\u001b[0m\u001b[0;32m    137\u001b[0m \u001b[1;33m\u001b[0m\u001b[0m\n\u001b[0;32m    138\u001b[0m \u001b[1;31m#m_avgg = load_model(path_models + 'avgg19_256_128.h5')\u001b[0m\u001b[1;33m\u001b[0m\u001b[1;33m\u001b[0m\u001b[1;33m\u001b[0m\u001b[0m\n",
      "\u001b[1;32m<ipython-input-20-6ae130f6da43>\u001b[0m in \u001b[0;36mpredictions_file\u001b[1;34m(model)\u001b[0m\n\u001b[0;32m    116\u001b[0m \u001b[1;33m\u001b[0m\u001b[0m\n\u001b[0;32m    117\u001b[0m \u001b[1;32mdef\u001b[0m \u001b[0mpredictions_file\u001b[0m\u001b[1;33m(\u001b[0m\u001b[0mmodel\u001b[0m\u001b[1;33m)\u001b[0m\u001b[1;33m:\u001b[0m\u001b[1;33m\u001b[0m\u001b[1;33m\u001b[0m\u001b[0m\n\u001b[1;32m--> 118\u001b[1;33m   \u001b[0mpredictions\u001b[0m \u001b[1;33m=\u001b[0m \u001b[0mmodel\u001b[0m\u001b[1;33m.\u001b[0m\u001b[0mpredict\u001b[0m\u001b[1;33m(\u001b[0m\u001b[0mtest_data\u001b[0m\u001b[1;33m)\u001b[0m\u001b[1;33m\u001b[0m\u001b[1;33m\u001b[0m\u001b[0m\n\u001b[0m\u001b[0;32m    119\u001b[0m   \u001b[0mpreds\u001b[0m \u001b[1;33m=\u001b[0m \u001b[0mnp\u001b[0m\u001b[1;33m.\u001b[0m\u001b[0margmax\u001b[0m\u001b[1;33m(\u001b[0m\u001b[0mpredictions\u001b[0m\u001b[1;33m,\u001b[0m \u001b[0maxis\u001b[0m\u001b[1;33m=\u001b[0m\u001b[1;33m-\u001b[0m\u001b[1;36m1\u001b[0m\u001b[1;33m)\u001b[0m \u001b[1;33m+\u001b[0m \u001b[1;36m1\u001b[0m\u001b[1;33m\u001b[0m\u001b[1;33m\u001b[0m\u001b[0m\n\u001b[0;32m    120\u001b[0m   \u001b[0moutput\u001b[0m \u001b[1;33m=\u001b[0m \u001b[0mpd\u001b[0m\u001b[1;33m.\u001b[0m\u001b[0mDataFrame\u001b[0m\u001b[1;33m(\u001b[0m\u001b[1;33m{\u001b[0m\u001b[1;34m'id.jpg'\u001b[0m\u001b[1;33m:\u001b[0m \u001b[0mtest_ids\u001b[0m\u001b[1;33m,\u001b[0m \u001b[1;34m'label'\u001b[0m\u001b[1;33m:\u001b[0m\u001b[0mpreds\u001b[0m\u001b[1;33m}\u001b[0m\u001b[1;33m)\u001b[0m\u001b[1;33m\u001b[0m\u001b[1;33m\u001b[0m\u001b[0m\n",
      "\u001b[1;31mNameError\u001b[0m: name 'test_data' is not defined"
     ]
    }
   ],
   "source": [
    "load_file = None\n",
    "\n",
    "batch_size = 32\n",
    "shuffle_buffer_size = 1000\n",
    "\n",
    "nclasses = len(np.unique(y_train))\n",
    "img_shape = x_train.shape[1:4]\n",
    "\n",
    "y_train_coded = tf.one_hot(y_train-1, depth=nclasses, on_value=1, off_value=0)\n",
    "y_val_coded = tf.one_hot(y_val-1, depth=nclasses, on_value=1, off_value=0)\n",
    "y_test_coded = tf.one_hot(y_test-1, depth=nclasses, on_value=1, off_value=0)\n",
    "\n",
    "train_dataset = tf.data.Dataset.from_tensor_slices((tf.convert_to_tensor(x_train), tf.convert_to_tensor(y_train_coded)))\n",
    "val_dataset = tf.data.Dataset.from_tensor_slices((tf.convert_to_tensor(x_val), tf.convert_to_tensor(y_val_coded)))\n",
    "test_dataset = tf.data.Dataset.from_tensor_slices((tf.convert_to_tensor(x_test), tf.convert_to_tensor(y_test_coded)))\n",
    "\n",
    "train_batches = train_dataset.shuffle(shuffle_buffer_size).batch(batch_size)\n",
    "val_batches = val_dataset.batch(batch_size)\n",
    "test_batches = test_dataset.batch(batch_size)\n",
    "\n",
    "\n",
    "print(x_train.shape)\n",
    "print(y_train.shape)\n",
    "\n",
    "nclasses = 29\n",
    "\n",
    "def create_model(base_model):\n",
    "  base_model.trainable = False\n",
    "  model = tf.keras.Sequential([\n",
    "    base_model,\n",
    "    tf.keras.layers.Dense(256, activation='relu'),\n",
    "    tf.keras.layers.Dense(128, activation='relu'),\n",
    "    tf.keras.layers.Dense(nclasses, activation='softmax')\n",
    "  ])\n",
    "  return model\n",
    "\n",
    "\n",
    "def train_evaluate_model(model, name, lr=0.0001):\n",
    "  earlystopping = tf.keras.callbacks.EarlyStopping(\n",
    "    monitor='val_categorical_accuracy',\n",
    "    verbose=1,\n",
    "    mode='max',\n",
    "    patience=5,\n",
    "    restore_best_weights=True\n",
    "  )\n",
    "  epochs = 5\n",
    "  #optimizer = tf.keras.optimizers.RMSprop(learning_rate=0.001)\n",
    "  optimizer = tf.keras.optimizers.Adam(learning_rate=lr, amsgrad=True)\n",
    "  loss = tf.keras.losses.CategoricalCrossentropy(from_logits=True)\n",
    "  metrics = [tf.keras.metrics.categorical_accuracy]\n",
    "\n",
    "  model.compile(optimizer=optimizer, loss=loss, metrics=metrics)\n",
    "  history = model.fit(train_batches,\n",
    "                      epochs=epochs, \n",
    "                      validation_data=val_batches,\n",
    "                      callbacks=[earlystopping])\n",
    "  model.save_weights('david/modelos/model2.h5')\n",
    "\n",
    "  acc = history.history['categorical_accuracy']\n",
    "  val_acc = history.history['val_categorical_accuracy']\n",
    "  loss = history.history['loss']\n",
    "  val_loss = history.history['val_loss']\n",
    "\n",
    "  plt.figure(figsize=(8, 8))\n",
    "  plt.subplot(2, 1, 1)\n",
    "  plt.plot(acc, label='Training Accuracy')\n",
    "  plt.plot(val_acc, label='Validation Accuracy')\n",
    "  plt.legend(loc='lower right')\n",
    "  plt.ylabel('Accuracy')\n",
    "  plt.ylim([min(plt.ylim()),1])\n",
    "  plt.title('Training and Validation Accuracy')\n",
    "\n",
    "  plt.subplot(2, 1, 2)\n",
    "  plt.plot(loss, label='Training Loss')\n",
    "  plt.plot(val_loss, label='Validation Loss')\n",
    "  plt.legend(loc='upper right')\n",
    "  plt.ylabel('Cross Entropy')\n",
    "  plt.ylim([0,(np.max(val_loss)+0.01)])\n",
    "  plt.title('Training and Validation Loss')\n",
    "  plt.xlabel('epoch')\n",
    "  plt.show()\n",
    "\n",
    "  test_loss, test_acc = model.evaluate(test_batches)\n",
    "  print('Test loss: ' + str(test_loss) + ', test acc: ' + str(test_acc))\n",
    "  \n",
    "  val_preds = np.argmax(model.predict(x_val), axis=-1)\n",
    "  val_matrix = tf.math.confusion_matrix(y_val-1, val_preds)\n",
    "  test_preds = np.argmax(model.predict(x_test), axis=-1)\n",
    "  test_matrix = tf.math.confusion_matrix(y_test-1, test_preds)\n",
    "\n",
    "  fig, ax = plt.subplots(1, 2, figsize=(10,20))\n",
    "  axlabs = [str(l) for l in np.unique(np.sort(y_train))]\n",
    "\n",
    "  im = ax[0].imshow(val_matrix)\n",
    "  ax[0].set_xticks(np.arange(nclasses))\n",
    "  ax[0].set_yticks(np.arange(nclasses))\n",
    "  ax[0].set_xticklabels(axlabs)\n",
    "  ax[0].set_yticklabels(axlabs)\n",
    "  ax[0].set_title(\"Validation conf matrix\")\n",
    "\n",
    "  im = ax[1].imshow(test_matrix)\n",
    "  ax[1].set_xticks(np.arange(nclasses))\n",
    "  ax[1].set_yticks(np.arange(nclasses))\n",
    "  ax[1].set_xticklabels(axlabs)\n",
    "  ax[1].set_yticklabels(axlabs)\n",
    "  ax[1].set_title(\"Test confusion matrix\")\n",
    "\n",
    "  plt.show()\n",
    "  \n",
    "  \n",
    "def prep_finetuning(model, from_layer):\n",
    "  model.layers[0].trainable = True\n",
    "  for layer in model.layers[0].layers[:from_layer]:\n",
    "    layer.trainable =  False\n",
    "\n",
    "\n",
    "def predictions_file(model):\n",
    "  predictions = model.predict(test_data)\n",
    "  preds = np.argmax(predictions, axis=-1) + 1\n",
    "  output = pd.DataFrame({'id.jpg': test_ids, 'label':preds})\n",
    "  output.to_csv('david/predicciones/pred2.csv', header=True, index=False)\n",
    "    \n",
    "    \n",
    "    \n",
    "    \n",
    "    \n",
    "base = tf.keras.applications.vgg19.VGG19(include_top = False, weights='imagenet',\n",
    "                                         input_shape=img_shape, pooling='avg')\n",
    "model_avgg = create_model(base)\n",
    "\n",
    "\n",
    "if pathload is not None:\n",
    "    model_avgg.load_weights(load_file)\n",
    "train_evaluate_model(model_avgg, 'avgg19_256_128')\n",
    "\n",
    "predictions_file(model_avgg)\n",
    "\n",
    "#m_avgg = load_model(path_models + 'avgg19_256_128.h5')\n",
    "#prep_finetuning(m_avgg, 20)\n",
    "#train_evaluate_model(m_avgg, 'avgg19_256_128_v2', 0.00001)"
   ]
  },
  {
   "cell_type": "markdown",
   "metadata": {
    "id": "O6ne6WkTJC_F"
   },
   "source": [
    "Definimos ahora el modelo que vamos a utilizar"
   ]
  },
  {
   "cell_type": "code",
   "execution_count": null,
   "metadata": {
    "id": "UnwstZAJJDnG"
   },
   "outputs": [],
   "source": []
  },
  {
   "cell_type": "markdown",
   "metadata": {
    "id": "5Q26u2ayL74n"
   },
   "source": [
    "Ejecutamos el modelo"
   ]
  },
  {
   "cell_type": "code",
   "execution_count": null,
   "metadata": {
    "id": "wONKlvm8Me3V"
   },
   "outputs": [],
   "source": []
  },
  {
   "cell_type": "markdown",
   "metadata": {
    "id": "CKwBKCzbM3QJ"
   },
   "source": [
    "Realizamos la predicción sobre el conjunto de test"
   ]
  },
  {
   "cell_type": "code",
   "execution_count": null,
   "metadata": {
    "id": "ZezqaeT6M98y"
   },
   "outputs": [],
   "source": []
  },
  {
   "cell_type": "markdown",
   "metadata": {
    "id": "bKTCaVdrUqkj"
   },
   "source": [
    "Calculamos algunas medidas de interés sobre la predicción realizada"
   ]
  },
  {
   "cell_type": "code",
   "execution_count": null,
   "metadata": {
    "id": "gx2D3QlDUvi-"
   },
   "outputs": [],
   "source": []
  }
 ],
 "metadata": {
  "colab": {
   "collapsed_sections": [],
   "name": "MINDAT_Code.ipynb",
   "provenance": []
  },
  "kernelspec": {
   "display_name": "Python 3",
   "language": "python",
   "name": "python3"
  },
  "language_info": {
   "codemirror_mode": {
    "name": "ipython",
    "version": 3
   },
   "file_extension": ".py",
   "mimetype": "text/x-python",
   "name": "python",
   "nbconvert_exporter": "python",
   "pygments_lexer": "ipython3",
   "version": "3.8.8"
  }
 },
 "nbformat": 4,
 "nbformat_minor": 1
}
