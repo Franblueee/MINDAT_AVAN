{
 "cells": [
  {
   "cell_type": "code",
   "execution_count": 154,
   "metadata": {},
   "outputs": [],
   "source": [
    "import os\n",
    "import numpy as np\n",
    "from utils import *\n",
    "import matplotlib.pyplot as plt\n",
    "from sklearn.decomposition import PCA\n",
    "\n",
    "\n",
    "import tensorflow as tf\n",
    "from tensorflow.keras.models import Model, load_model\n",
    "from tensorflow.keras.layers import Input, Dense, Dropout, Conv2D, MaxPooling2D, Flatten, BatchNormalization, Activation\n",
    "from tensorflow.keras import regularizers\n",
    "from tensorflow.keras.optimizers import RMSprop, Adam\n",
    "from tensorflow.keras.callbacks import EarlyStopping, ModelCheckpoint\n",
    "from sklearn.preprocessing import OneHotEncoder, StandardScaler"
   ]
  },
  {
   "cell_type": "code",
   "execution_count": 94,
   "metadata": {},
   "outputs": [],
   "source": [
    "# Cada uno aqui ubicad vuestra carpeta de datos\n",
    "data_dir = os.path.join(\"..\",\"..\",\"..\",\"data\")"
   ]
  },
  {
   "cell_type": "code",
   "execution_count": 95,
   "metadata": {},
   "outputs": [],
   "source": [
    "train_data, train_labels, test_data, test_labels, test_names = load_data(data_dir, norm=False)\n"
   ]
  },
  {
   "cell_type": "code",
   "execution_count": 157,
   "metadata": {},
   "outputs": [],
   "source": [
    "select_train_data = np.array([train_data[i] for i, label in enumerate(train_labels) if label in (21,22)])\n",
    "select_train_data = select_train_data / 255\n",
    "\n",
    "select_train_labels = np.array([label for label in train_labels if label in (21,22)])\n",
    "select_train_labels = select_train_labels - 21"
   ]
  },
  {
   "cell_type": "code",
   "execution_count": 158,
   "metadata": {},
   "outputs": [
    {
     "data": {
      "text/plain": [
       "Text(0, 0.5, 'Cumulative explained variance')"
      ]
     },
     "execution_count": 158,
     "metadata": {},
     "output_type": "execute_result"
    },
    {
     "data": {
      "image/png": "[encoded data removed]",
      "text/plain": [
       "<Figure size 432x288 with 1 Axes>"
      ]
     },
     "metadata": {
      "needs_background": "light"
     },
     "output_type": "display_data"
    }
   ],
   "source": [
    "pca_transformer = PCA().fit(select_train_data.reshape(-1,(224*224*3)))\n",
    "plt.plot(np.cumsum(pca_transformer.explained_variance_ratio_))\n",
    "plt.xlabel('Number of components')\n",
    "plt.ylabel('Cumulative explained variance')"
   ]
  },
  {
   "cell_type": "code",
   "execution_count": 159,
   "metadata": {},
   "outputs": [
    {
     "data": {
      "text/plain": [
       "Text(0, 0.5, 'Cumulative explained variance')"
      ]
     },
     "execution_count": 159,
     "metadata": {},
     "output_type": "execute_result"
    },
    {
     "data": {
      "image/png": "[encoded data removed]",
      "text/plain": [
       "<Figure size 432x288 with 1 Axes>"
      ]
     },
     "metadata": {
      "needs_background": "light"
     },
     "output_type": "display_data"
    }
   ],
   "source": [
    "pca_transformer = PCA(20).fit(select_train_data.reshape(-1,(224*224*3)))\n",
    "plt.plot(np.cumsum(pca_transformer.explained_variance_ratio_))\n",
    "plt.xlabel('Number of components')\n",
    "plt.ylabel('Cumulative explained variance')"
   ]
  },
  {
   "cell_type": "code",
   "execution_count": 160,
   "metadata": {},
   "outputs": [],
   "source": [
    "pca_transformer = PCA(3).fit(select_train_data.reshape(-1,(224*224*3)))\n",
    "pca_train_data = pca_transformer.transform(select_train_data.reshape(-1,(224*224*3)))"
   ]
  },
  {
   "cell_type": "code",
   "execution_count": 163,
   "metadata": {},
   "outputs": [],
   "source": [
    "select_test_data = np.array([test_data[i] for i, label in enumerate(test_labels) if label in (21,22)])\n",
    "select_test_data = select_test_data / 255\n",
    "pca_test_data = pca_transformer.transform(select_test_data.reshape(-1,(224*224*3)))\n",
    "\n",
    "select_test_labels = np.array([label for label in test_labels if label in (21,22)])\n",
    "select_test_labels = select_test_labels - 21"
   ]
  },
  {
   "cell_type": "code",
   "execution_count": 218,
   "metadata": {},
   "outputs": [
    {
     "name": "stdout",
     "output_type": "stream",
     "text": [
      "\n",
      "Epoch 00001: val_accuracy improved from -inf to 0.66990, saving model to model_checkpoints\\0.66990.h5\n",
      "\n",
      "Epoch 00002: val_accuracy improved from 0.66990 to 0.67961, saving model to model_checkpoints\\0.67961.h5\n",
      "\n",
      "Epoch 00003: val_accuracy improved from 0.67961 to 0.69903, saving model to model_checkpoints\\0.69903.h5\n",
      "\n",
      "Epoch 00004: val_accuracy improved from 0.69903 to 0.71845, saving model to model_checkpoints\\0.71845.h5\n",
      "\n",
      "Epoch 00005: val_accuracy did not improve from 0.71845\n",
      "\n",
      "Epoch 00006: val_accuracy did not improve from 0.71845\n",
      "\n",
      "Epoch 00007: val_accuracy did not improve from 0.71845\n",
      "\n",
      "Epoch 00008: val_accuracy did not improve from 0.71845\n",
      "\n",
      "Epoch 00009: val_accuracy did not improve from 0.71845\n",
      "\n",
      "Epoch 00010: val_accuracy did not improve from 0.71845\n",
      "\n",
      "Epoch 00011: val_accuracy did not improve from 0.71845\n",
      "\n",
      "Epoch 00012: val_accuracy did not improve from 0.71845\n",
      "\n",
      "Epoch 00013: val_accuracy did not improve from 0.71845\n",
      "\n",
      "Epoch 00014: val_accuracy did not improve from 0.71845\n",
      "Epoch 00014: early stopping\n"
     ]
    },
    {
     "data": {
      "text/plain": [
       "<keras.callbacks.History at 0x24973cb9550>"
      ]
     },
     "execution_count": 218,
     "metadata": {},
     "output_type": "execute_result"
    }
   ],
   "source": [
    "# model_path = os.path.join(os.getcwd(), \"pca+nn.h5\")\n",
    "# if os.path.exists(model_path):\n",
    "#     model = load_model(model_path)\n",
    "# else:\n",
    "\n",
    "ea = EarlyStopping(monitor='val_accuracy', patience=10, mode='max', verbose=1)\n",
    "mc = ModelCheckpoint(filepath=os.path.join(\"model_checkpoints\", \"{val_accuracy:.5f}.h5\"), monitor='val_accuracy', mode='max', save_best_only=True, verbose=2)\n",
    "\n",
    "inputs = Input(shape=(pca_train_data.shape[1]))\n",
    "x = Dense(64, activation='relu')(inputs)\n",
    "x = Dropout(0.2)(x)\n",
    "x = Dense(32, activation='relu')(x)\n",
    "x = Dropout(0.2)(x)\n",
    "x = Dense(16, activation='relu')(x)\n",
    "x = Dense(8, activation='relu')(x)\n",
    "\n",
    "outputs = Dense(1, activation='sigmoid')(x)\n",
    "\n",
    "model = Model(inputs=inputs, outputs=outputs)\n",
    "model.compile(optimizer=RMSprop(0.001),loss=\"binary_crossentropy\", metrics=['accuracy'])\n",
    "model.fit(pca_train_data, select_train_labels, epochs=100, batch_size=8, verbose=0, validation_data=(pca_test_data, select_test_labels), callbacks=[ea, mc])\n"
   ]
  },
  {
   "cell_type": "code",
   "execution_count": 219,
   "metadata": {},
   "outputs": [
    {
     "name": "stdout",
     "output_type": "stream",
     "text": [
      "103/103 [==============================] - 0s 843us/step - loss: 0.5438 - accuracy: 0.8058\n"
     ]
    },
    {
     "data": {
      "text/plain": [
       "[0.543760359287262, 0.8058252334594727]"
      ]
     },
     "execution_count": 219,
     "metadata": {},
     "output_type": "execute_result"
    }
   ],
   "source": [
    "model = load_model(\"model_checkpoints\\\\pca+nn_ver1.h5\")\n",
    "model.evaluate(pca_test_data, select_test_labels, batch_size=1)"
   ]
  },
  {
   "cell_type": "code",
   "execution_count": null,
   "metadata": {},
   "outputs": [],
   "source": []
  }
 ],
 "metadata": {
  "interpreter": {
   "hash": "05cab942c8b354e601bccc729a2e72329b03fbcaad4e6e149a4badf09246ceeb"
  },
  "kernelspec": {
   "display_name": "Python 3.8.5 ('base')",
   "language": "python",
   "name": "python3"
  },
  "language_info": {
   "codemirror_mode": {
    "name": "ipython",
    "version": 3
   },
   "file_extension": ".py",
   "mimetype": "text/x-python",
   "name": "python",
   "nbconvert_exporter": "python",
   "pygments_lexer": "ipython3",
   "version": "3.8.5"
  },
  "orig_nbformat": 4
 },
 "nbformat": 4,
 "nbformat_minor": 2
}
